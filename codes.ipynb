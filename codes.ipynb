{
 "cells": [
  {
   "cell_type": "markdown",
   "metadata": {},
   "source": [
    "# Analysis on Clinical and Financial Data of Patients with a Certain Condition"
   ]
  },
  {
   "cell_type": "markdown",
   "metadata": {},
   "source": [
    "#### Matthew Zakharia Hadimaja"
   ]
  },
  {
   "cell_type": "markdown",
   "metadata": {},
   "source": [
    "Let's start by importing some libraries"
   ]
  },
  {
   "cell_type": "code",
   "execution_count": 1,
   "metadata": {
    "collapsed": true
   },
   "outputs": [],
   "source": [
    "import numpy as np\n",
    "import pandas as pd\n",
    "from matplotlib import pyplot as plt\n",
    "%matplotlib inline\n",
    "import seaborn as sns"
   ]
  },
  {
   "cell_type": "markdown",
   "metadata": {},
   "source": [
    "Next, we load the .csv files."
   ]
  },
  {
   "cell_type": "code",
   "execution_count": 2,
   "metadata": {
    "collapsed": true
   },
   "outputs": [],
   "source": [
    "bill_amount = pd.read_csv('data/bill_amount.csv')\n",
    "bill_id = pd.read_csv('data/bill_id.csv')\n",
    "clinical_data = pd.read_csv('data/clinical_data.csv')\n",
    "demographics = pd.read_csv('data/demographics.csv')"
   ]
  },
  {
   "cell_type": "markdown",
   "metadata": {},
   "source": [
    "## Data Cleaning"
   ]
  },
  {
   "cell_type": "code",
   "execution_count": 3,
   "metadata": {
    "collapsed": true
   },
   "outputs": [],
   "source": [
    "import datetime as dt\n",
    "from datetime import datetime\n",
    "from dateutil.parser import parse"
   ]
  },
  {
   "cell_type": "markdown",
   "metadata": {},
   "source": [
    "### `bill_amount`"
   ]
  },
  {
   "cell_type": "code",
   "execution_count": 4,
   "metadata": {},
   "outputs": [
    {
     "data": {
      "text/html": [
       "<div>\n",
       "<style>\n",
       "    .dataframe thead tr:only-child th {\n",
       "        text-align: right;\n",
       "    }\n",
       "\n",
       "    .dataframe thead th {\n",
       "        text-align: left;\n",
       "    }\n",
       "\n",
       "    .dataframe tbody tr th {\n",
       "        vertical-align: top;\n",
       "    }\n",
       "</style>\n",
       "<table border=\"1\" class=\"dataframe\">\n",
       "  <thead>\n",
       "    <tr style=\"text-align: right;\">\n",
       "      <th></th>\n",
       "      <th>bill_id</th>\n",
       "      <th>amount</th>\n",
       "    </tr>\n",
       "  </thead>\n",
       "  <tbody>\n",
       "    <tr>\n",
       "      <th>0</th>\n",
       "      <td>40315104</td>\n",
       "      <td>1552.634830</td>\n",
       "    </tr>\n",
       "    <tr>\n",
       "      <th>1</th>\n",
       "      <td>2660045161</td>\n",
       "      <td>1032.011951</td>\n",
       "    </tr>\n",
       "    <tr>\n",
       "      <th>2</th>\n",
       "      <td>1148334643</td>\n",
       "      <td>6469.605351</td>\n",
       "    </tr>\n",
       "    <tr>\n",
       "      <th>3</th>\n",
       "      <td>3818426276</td>\n",
       "      <td>755.965425</td>\n",
       "    </tr>\n",
       "    <tr>\n",
       "      <th>4</th>\n",
       "      <td>9833541918</td>\n",
       "      <td>897.347816</td>\n",
       "    </tr>\n",
       "  </tbody>\n",
       "</table>\n",
       "</div>"
      ],
      "text/plain": [
       "      bill_id       amount\n",
       "0    40315104  1552.634830\n",
       "1  2660045161  1032.011951\n",
       "2  1148334643  6469.605351\n",
       "3  3818426276   755.965425\n",
       "4  9833541918   897.347816"
      ]
     },
     "execution_count": 4,
     "metadata": {},
     "output_type": "execute_result"
    }
   ],
   "source": [
    "bill_amount.head()"
   ]
  },
  {
   "cell_type": "code",
   "execution_count": 5,
   "metadata": {
    "scrolled": true
   },
   "outputs": [
    {
     "name": "stdout",
     "output_type": "stream",
     "text": [
      "<class 'pandas.core.frame.DataFrame'>\n",
      "RangeIndex: 13600 entries, 0 to 13599\n",
      "Data columns (total 2 columns):\n",
      "bill_id    13600 non-null int64\n",
      "amount     13600 non-null float64\n",
      "dtypes: float64(1), int64(1)\n",
      "memory usage: 212.6 KB\n"
     ]
    }
   ],
   "source": [
    "bill_amount.info()"
   ]
  },
  {
   "cell_type": "markdown",
   "metadata": {},
   "source": [
    "As can be seen, we have no missing data in this table. The data are also stored in appropriate formats."
   ]
  },
  {
   "cell_type": "markdown",
   "metadata": {},
   "source": [
    "### `bill_id`"
   ]
  },
  {
   "cell_type": "code",
   "execution_count": 6,
   "metadata": {},
   "outputs": [
    {
     "data": {
      "text/html": [
       "<div>\n",
       "<style>\n",
       "    .dataframe thead tr:only-child th {\n",
       "        text-align: right;\n",
       "    }\n",
       "\n",
       "    .dataframe thead th {\n",
       "        text-align: left;\n",
       "    }\n",
       "\n",
       "    .dataframe tbody tr th {\n",
       "        vertical-align: top;\n",
       "    }\n",
       "</style>\n",
       "<table border=\"1\" class=\"dataframe\">\n",
       "  <thead>\n",
       "    <tr style=\"text-align: right;\">\n",
       "      <th></th>\n",
       "      <th>bill_id</th>\n",
       "      <th>patient_id</th>\n",
       "      <th>date_of_admission</th>\n",
       "    </tr>\n",
       "  </thead>\n",
       "  <tbody>\n",
       "    <tr>\n",
       "      <th>0</th>\n",
       "      <td>7968360812</td>\n",
       "      <td>1d21f2be18683991eb93d182d6b2d220</td>\n",
       "      <td>2011-01-01</td>\n",
       "    </tr>\n",
       "    <tr>\n",
       "      <th>1</th>\n",
       "      <td>6180579974</td>\n",
       "      <td>62bdca0b95d97e99e1c712048fb9fd09</td>\n",
       "      <td>2011-01-01</td>\n",
       "    </tr>\n",
       "    <tr>\n",
       "      <th>2</th>\n",
       "      <td>7512568183</td>\n",
       "      <td>1d21f2be18683991eb93d182d6b2d220</td>\n",
       "      <td>2011-01-01</td>\n",
       "    </tr>\n",
       "    <tr>\n",
       "      <th>3</th>\n",
       "      <td>3762633379</td>\n",
       "      <td>62bdca0b95d97e99e1c712048fb9fd09</td>\n",
       "      <td>2011-01-01</td>\n",
       "    </tr>\n",
       "    <tr>\n",
       "      <th>4</th>\n",
       "      <td>7654730355</td>\n",
       "      <td>1d21f2be18683991eb93d182d6b2d220</td>\n",
       "      <td>2011-01-01</td>\n",
       "    </tr>\n",
       "  </tbody>\n",
       "</table>\n",
       "</div>"
      ],
      "text/plain": [
       "      bill_id                        patient_id date_of_admission\n",
       "0  7968360812  1d21f2be18683991eb93d182d6b2d220        2011-01-01\n",
       "1  6180579974  62bdca0b95d97e99e1c712048fb9fd09        2011-01-01\n",
       "2  7512568183  1d21f2be18683991eb93d182d6b2d220        2011-01-01\n",
       "3  3762633379  62bdca0b95d97e99e1c712048fb9fd09        2011-01-01\n",
       "4  7654730355  1d21f2be18683991eb93d182d6b2d220        2011-01-01"
      ]
     },
     "execution_count": 6,
     "metadata": {},
     "output_type": "execute_result"
    }
   ],
   "source": [
    "bill_id.head()"
   ]
  },
  {
   "cell_type": "code",
   "execution_count": 7,
   "metadata": {},
   "outputs": [
    {
     "name": "stdout",
     "output_type": "stream",
     "text": [
      "<class 'pandas.core.frame.DataFrame'>\n",
      "RangeIndex: 13600 entries, 0 to 13599\n",
      "Data columns (total 3 columns):\n",
      "bill_id              13600 non-null int64\n",
      "patient_id           13600 non-null object\n",
      "date_of_admission    13600 non-null object\n",
      "dtypes: int64(1), object(2)\n",
      "memory usage: 318.8+ KB\n"
     ]
    }
   ],
   "source": [
    "bill_id.info()"
   ]
  },
  {
   "cell_type": "markdown",
   "metadata": {},
   "source": [
    "We have no missing data here. However, `date_of_admission` is not formatted correctly. We will convert the column into its appropriate `datetime` format."
   ]
  },
  {
   "cell_type": "code",
   "execution_count": 8,
   "metadata": {
    "collapsed": true
   },
   "outputs": [],
   "source": [
    "bill_id['date_of_admission'] = pd.to_datetime(bill_id['date_of_admission'])"
   ]
  },
  {
   "cell_type": "code",
   "execution_count": 9,
   "metadata": {},
   "outputs": [
    {
     "name": "stdout",
     "output_type": "stream",
     "text": [
      "<class 'pandas.core.frame.DataFrame'>\n",
      "RangeIndex: 13600 entries, 0 to 13599\n",
      "Data columns (total 3 columns):\n",
      "bill_id              13600 non-null int64\n",
      "patient_id           13600 non-null object\n",
      "date_of_admission    13600 non-null datetime64[ns]\n",
      "dtypes: datetime64[ns](1), int64(1), object(1)\n",
      "memory usage: 318.8+ KB\n"
     ]
    }
   ],
   "source": [
    "bill_id.info()"
   ]
  },
  {
   "cell_type": "markdown",
   "metadata": {},
   "source": [
    "### `demographics`"
   ]
  },
  {
   "cell_type": "code",
   "execution_count": 10,
   "metadata": {},
   "outputs": [
    {
     "data": {
      "text/html": [
       "<div>\n",
       "<style>\n",
       "    .dataframe thead tr:only-child th {\n",
       "        text-align: right;\n",
       "    }\n",
       "\n",
       "    .dataframe thead th {\n",
       "        text-align: left;\n",
       "    }\n",
       "\n",
       "    .dataframe tbody tr th {\n",
       "        vertical-align: top;\n",
       "    }\n",
       "</style>\n",
       "<table border=\"1\" class=\"dataframe\">\n",
       "  <thead>\n",
       "    <tr style=\"text-align: right;\">\n",
       "      <th></th>\n",
       "      <th>patient_id</th>\n",
       "      <th>gender</th>\n",
       "      <th>race</th>\n",
       "      <th>resident_status</th>\n",
       "      <th>date_of_birth</th>\n",
       "    </tr>\n",
       "  </thead>\n",
       "  <tbody>\n",
       "    <tr>\n",
       "      <th>0</th>\n",
       "      <td>fa2d818b2261e44e30628ad1ac9cc72c</td>\n",
       "      <td>Female</td>\n",
       "      <td>Indian</td>\n",
       "      <td>Singaporean</td>\n",
       "      <td>1971-05-14</td>\n",
       "    </tr>\n",
       "    <tr>\n",
       "      <th>1</th>\n",
       "      <td>5b6477c5de78d0b138e3b0c18e21d0ae</td>\n",
       "      <td>f</td>\n",
       "      <td>Chinese</td>\n",
       "      <td>Singapore citizen</td>\n",
       "      <td>1976-02-18</td>\n",
       "    </tr>\n",
       "    <tr>\n",
       "      <th>2</th>\n",
       "      <td>320aa16c61937447fd6631bf635e7fde</td>\n",
       "      <td>Male</td>\n",
       "      <td>Chinese</td>\n",
       "      <td>Singapore citizen</td>\n",
       "      <td>1982-07-03</td>\n",
       "    </tr>\n",
       "    <tr>\n",
       "      <th>3</th>\n",
       "      <td>c7f3881684045e6c49020481020fae36</td>\n",
       "      <td>Male</td>\n",
       "      <td>Malay</td>\n",
       "      <td>Singapore citizen</td>\n",
       "      <td>1947-06-15</td>\n",
       "    </tr>\n",
       "    <tr>\n",
       "      <th>4</th>\n",
       "      <td>541ad077cb4a0e64cc422673afe28aef</td>\n",
       "      <td>m</td>\n",
       "      <td>Chinese</td>\n",
       "      <td>Singaporean</td>\n",
       "      <td>1970-12-12</td>\n",
       "    </tr>\n",
       "  </tbody>\n",
       "</table>\n",
       "</div>"
      ],
      "text/plain": [
       "                         patient_id  gender     race    resident_status  \\\n",
       "0  fa2d818b2261e44e30628ad1ac9cc72c  Female   Indian        Singaporean   \n",
       "1  5b6477c5de78d0b138e3b0c18e21d0ae       f  Chinese  Singapore citizen   \n",
       "2  320aa16c61937447fd6631bf635e7fde    Male  Chinese  Singapore citizen   \n",
       "3  c7f3881684045e6c49020481020fae36    Male    Malay  Singapore citizen   \n",
       "4  541ad077cb4a0e64cc422673afe28aef       m  Chinese        Singaporean   \n",
       "\n",
       "  date_of_birth  \n",
       "0    1971-05-14  \n",
       "1    1976-02-18  \n",
       "2    1982-07-03  \n",
       "3    1947-06-15  \n",
       "4    1970-12-12  "
      ]
     },
     "execution_count": 10,
     "metadata": {},
     "output_type": "execute_result"
    }
   ],
   "source": [
    "demographics.head()"
   ]
  },
  {
   "cell_type": "code",
   "execution_count": 11,
   "metadata": {},
   "outputs": [
    {
     "name": "stdout",
     "output_type": "stream",
     "text": [
      "<class 'pandas.core.frame.DataFrame'>\n",
      "RangeIndex: 3000 entries, 0 to 2999\n",
      "Data columns (total 5 columns):\n",
      "patient_id         3000 non-null object\n",
      "gender             3000 non-null object\n",
      "race               3000 non-null object\n",
      "resident_status    3000 non-null object\n",
      "date_of_birth      3000 non-null object\n",
      "dtypes: object(5)\n",
      "memory usage: 117.3+ KB\n"
     ]
    }
   ],
   "source": [
    "demographics.info()"
   ]
  },
  {
   "cell_type": "markdown",
   "metadata": {},
   "source": [
    "No missing data here, but the supposedly categorical variables `gender`, `race`, and `resident_status` are not consistent. We also need to convert `date_of_birth` into `datetime` format."
   ]
  },
  {
   "cell_type": "markdown",
   "metadata": {},
   "source": [
    "We start by listing down the unique values in each of the categorical variables."
   ]
  },
  {
   "cell_type": "code",
   "execution_count": 12,
   "metadata": {},
   "outputs": [
    {
     "name": "stdout",
     "output_type": "stream",
     "text": [
      "['Female' 'f' 'Male' 'm']\n",
      "['Indian' 'Chinese' 'Malay' 'chinese' 'India' 'Others']\n",
      "['Singaporean' 'Singapore citizen' 'PR' 'Foreigner']\n"
     ]
    }
   ],
   "source": [
    "print(demographics['gender'].unique())\n",
    "print(demographics['race'].unique())\n",
    "print(demographics['resident_status'].unique())"
   ]
  },
  {
   "cell_type": "markdown",
   "metadata": {},
   "source": [
    "Then, we replace the redundant values."
   ]
  },
  {
   "cell_type": "code",
   "execution_count": 13,
   "metadata": {
    "collapsed": true
   },
   "outputs": [],
   "source": [
    "clean_demographics = {'gender': {'m': 'Male',\n",
    "                                 'f': 'Female'},\n",
    "                      'race': {'chinese': 'Chinese',\n",
    "                               'India': 'Indian'},\n",
    "                      'resident_status': {'Singapore citizen': 'Singaporean'}}\n",
    "demographics.replace(clean_demographics, inplace=True)"
   ]
  },
  {
   "cell_type": "markdown",
   "metadata": {},
   "source": [
    "We also convert `date_of_birth` into `datetime` format."
   ]
  },
  {
   "cell_type": "code",
   "execution_count": 14,
   "metadata": {
    "collapsed": true
   },
   "outputs": [],
   "source": [
    "demographics['date_of_birth'] = pd.to_datetime(demographics['date_of_birth'])"
   ]
  },
  {
   "cell_type": "code",
   "execution_count": 15,
   "metadata": {},
   "outputs": [
    {
     "name": "stdout",
     "output_type": "stream",
     "text": [
      "<class 'pandas.core.frame.DataFrame'>\n",
      "RangeIndex: 3000 entries, 0 to 2999\n",
      "Data columns (total 5 columns):\n",
      "patient_id         3000 non-null object\n",
      "gender             3000 non-null object\n",
      "race               3000 non-null object\n",
      "resident_status    3000 non-null object\n",
      "date_of_birth      3000 non-null datetime64[ns]\n",
      "dtypes: datetime64[ns](1), object(4)\n",
      "memory usage: 117.3+ KB\n"
     ]
    }
   ],
   "source": [
    "demographics.info()"
   ]
  },
  {
   "cell_type": "code",
   "execution_count": 16,
   "metadata": {},
   "outputs": [
    {
     "name": "stdout",
     "output_type": "stream",
     "text": [
      "['Female' 'Male']\n",
      "['Indian' 'Chinese' 'Malay' 'Others']\n",
      "['Singaporean' 'PR' 'Foreigner']\n"
     ]
    }
   ],
   "source": [
    "print(demographics['gender'].unique())\n",
    "print(demographics['race'].unique())\n",
    "print(demographics['resident_status'].unique())"
   ]
  },
  {
   "cell_type": "markdown",
   "metadata": {},
   "source": [
    "As we can see, the data are in correct format, with the categorical variables grouped accordingly."
   ]
  },
  {
   "cell_type": "markdown",
   "metadata": {},
   "source": [
    "### `clinical_data`"
   ]
  },
  {
   "cell_type": "code",
   "execution_count": 17,
   "metadata": {},
   "outputs": [
    {
     "data": {
      "text/html": [
       "<div>\n",
       "<style>\n",
       "    .dataframe thead tr:only-child th {\n",
       "        text-align: right;\n",
       "    }\n",
       "\n",
       "    .dataframe thead th {\n",
       "        text-align: left;\n",
       "    }\n",
       "\n",
       "    .dataframe tbody tr th {\n",
       "        vertical-align: top;\n",
       "    }\n",
       "</style>\n",
       "<table border=\"1\" class=\"dataframe\">\n",
       "  <thead>\n",
       "    <tr style=\"text-align: right;\">\n",
       "      <th></th>\n",
       "      <th>id</th>\n",
       "      <th>date_of_admission</th>\n",
       "      <th>date_of_discharge</th>\n",
       "      <th>medical_history_1</th>\n",
       "      <th>medical_history_2</th>\n",
       "      <th>medical_history_3</th>\n",
       "      <th>medical_history_4</th>\n",
       "      <th>medical_history_5</th>\n",
       "      <th>medical_history_6</th>\n",
       "      <th>medical_history_7</th>\n",
       "      <th>...</th>\n",
       "      <th>symptom_1</th>\n",
       "      <th>symptom_2</th>\n",
       "      <th>symptom_3</th>\n",
       "      <th>symptom_4</th>\n",
       "      <th>symptom_5</th>\n",
       "      <th>lab_result_1</th>\n",
       "      <th>lab_result_2</th>\n",
       "      <th>lab_result_3</th>\n",
       "      <th>weight</th>\n",
       "      <th>height</th>\n",
       "    </tr>\n",
       "  </thead>\n",
       "  <tbody>\n",
       "    <tr>\n",
       "      <th>0</th>\n",
       "      <td>1d21f2be18683991eb93d182d6b2d220</td>\n",
       "      <td>2011-01-01</td>\n",
       "      <td>2011-01-11</td>\n",
       "      <td>0</td>\n",
       "      <td>1.0</td>\n",
       "      <td>0</td>\n",
       "      <td>0</td>\n",
       "      <td>0.0</td>\n",
       "      <td>0</td>\n",
       "      <td>0</td>\n",
       "      <td>...</td>\n",
       "      <td>0</td>\n",
       "      <td>0</td>\n",
       "      <td>0</td>\n",
       "      <td>1</td>\n",
       "      <td>1</td>\n",
       "      <td>13.2</td>\n",
       "      <td>30.9</td>\n",
       "      <td>123.0</td>\n",
       "      <td>71.3</td>\n",
       "      <td>161.0</td>\n",
       "    </tr>\n",
       "    <tr>\n",
       "      <th>1</th>\n",
       "      <td>62bdca0b95d97e99e1c712048fb9fd09</td>\n",
       "      <td>2011-01-01</td>\n",
       "      <td>2011-01-11</td>\n",
       "      <td>0</td>\n",
       "      <td>0.0</td>\n",
       "      <td>0</td>\n",
       "      <td>0</td>\n",
       "      <td>0.0</td>\n",
       "      <td>0</td>\n",
       "      <td>0</td>\n",
       "      <td>...</td>\n",
       "      <td>0</td>\n",
       "      <td>0</td>\n",
       "      <td>1</td>\n",
       "      <td>1</td>\n",
       "      <td>1</td>\n",
       "      <td>13.8</td>\n",
       "      <td>22.6</td>\n",
       "      <td>89.0</td>\n",
       "      <td>78.4</td>\n",
       "      <td>160.0</td>\n",
       "    </tr>\n",
       "    <tr>\n",
       "      <th>2</th>\n",
       "      <td>c85cf97bc6307ded0dd4fef8bad2fa09</td>\n",
       "      <td>2011-01-02</td>\n",
       "      <td>2011-01-13</td>\n",
       "      <td>0</td>\n",
       "      <td>0.0</td>\n",
       "      <td>0</td>\n",
       "      <td>0</td>\n",
       "      <td>0.0</td>\n",
       "      <td>0</td>\n",
       "      <td>0</td>\n",
       "      <td>...</td>\n",
       "      <td>1</td>\n",
       "      <td>1</td>\n",
       "      <td>1</td>\n",
       "      <td>1</td>\n",
       "      <td>0</td>\n",
       "      <td>11.2</td>\n",
       "      <td>26.2</td>\n",
       "      <td>100.0</td>\n",
       "      <td>72.0</td>\n",
       "      <td>151.0</td>\n",
       "    </tr>\n",
       "    <tr>\n",
       "      <th>3</th>\n",
       "      <td>e0397dd72caf4552c5babebd3d61736c</td>\n",
       "      <td>2011-01-02</td>\n",
       "      <td>2011-01-14</td>\n",
       "      <td>0</td>\n",
       "      <td>1.0</td>\n",
       "      <td>No</td>\n",
       "      <td>0</td>\n",
       "      <td>0.0</td>\n",
       "      <td>1</td>\n",
       "      <td>1</td>\n",
       "      <td>...</td>\n",
       "      <td>1</td>\n",
       "      <td>1</td>\n",
       "      <td>1</td>\n",
       "      <td>1</td>\n",
       "      <td>1</td>\n",
       "      <td>13.3</td>\n",
       "      <td>28.4</td>\n",
       "      <td>76.0</td>\n",
       "      <td>64.4</td>\n",
       "      <td>152.0</td>\n",
       "    </tr>\n",
       "    <tr>\n",
       "      <th>4</th>\n",
       "      <td>94ade3cd5f66f4584902554dff170a29</td>\n",
       "      <td>2011-01-08</td>\n",
       "      <td>2011-01-16</td>\n",
       "      <td>0</td>\n",
       "      <td>0.0</td>\n",
       "      <td>No</td>\n",
       "      <td>0</td>\n",
       "      <td>0.0</td>\n",
       "      <td>1</td>\n",
       "      <td>1</td>\n",
       "      <td>...</td>\n",
       "      <td>0</td>\n",
       "      <td>1</td>\n",
       "      <td>0</td>\n",
       "      <td>1</td>\n",
       "      <td>0</td>\n",
       "      <td>12.0</td>\n",
       "      <td>27.8</td>\n",
       "      <td>87.0</td>\n",
       "      <td>55.6</td>\n",
       "      <td>160.0</td>\n",
       "    </tr>\n",
       "  </tbody>\n",
       "</table>\n",
       "<p>5 rows × 26 columns</p>\n",
       "</div>"
      ],
      "text/plain": [
       "                                 id date_of_admission date_of_discharge  \\\n",
       "0  1d21f2be18683991eb93d182d6b2d220        2011-01-01        2011-01-11   \n",
       "1  62bdca0b95d97e99e1c712048fb9fd09        2011-01-01        2011-01-11   \n",
       "2  c85cf97bc6307ded0dd4fef8bad2fa09        2011-01-02        2011-01-13   \n",
       "3  e0397dd72caf4552c5babebd3d61736c        2011-01-02        2011-01-14   \n",
       "4  94ade3cd5f66f4584902554dff170a29        2011-01-08        2011-01-16   \n",
       "\n",
       "   medical_history_1  medical_history_2 medical_history_3  medical_history_4  \\\n",
       "0                  0                1.0                 0                  0   \n",
       "1                  0                0.0                 0                  0   \n",
       "2                  0                0.0                 0                  0   \n",
       "3                  0                1.0                No                  0   \n",
       "4                  0                0.0                No                  0   \n",
       "\n",
       "   medical_history_5  medical_history_6  medical_history_7   ...    symptom_1  \\\n",
       "0                0.0                  0                  0   ...            0   \n",
       "1                0.0                  0                  0   ...            0   \n",
       "2                0.0                  0                  0   ...            1   \n",
       "3                0.0                  1                  1   ...            1   \n",
       "4                0.0                  1                  1   ...            0   \n",
       "\n",
       "   symptom_2  symptom_3  symptom_4  symptom_5  lab_result_1  lab_result_2  \\\n",
       "0          0          0          1          1          13.2          30.9   \n",
       "1          0          1          1          1          13.8          22.6   \n",
       "2          1          1          1          0          11.2          26.2   \n",
       "3          1          1          1          1          13.3          28.4   \n",
       "4          1          0          1          0          12.0          27.8   \n",
       "\n",
       "   lab_result_3  weight  height  \n",
       "0         123.0    71.3   161.0  \n",
       "1          89.0    78.4   160.0  \n",
       "2         100.0    72.0   151.0  \n",
       "3          76.0    64.4   152.0  \n",
       "4          87.0    55.6   160.0  \n",
       "\n",
       "[5 rows x 26 columns]"
      ]
     },
     "execution_count": 17,
     "metadata": {},
     "output_type": "execute_result"
    }
   ],
   "source": [
    "clinical_data.head()"
   ]
  },
  {
   "cell_type": "code",
   "execution_count": 18,
   "metadata": {},
   "outputs": [
    {
     "name": "stdout",
     "output_type": "stream",
     "text": [
      "<class 'pandas.core.frame.DataFrame'>\n",
      "RangeIndex: 3400 entries, 0 to 3399\n",
      "Data columns (total 26 columns):\n",
      "id                    3400 non-null object\n",
      "date_of_admission     3400 non-null object\n",
      "date_of_discharge     3400 non-null object\n",
      "medical_history_1     3400 non-null int64\n",
      "medical_history_2     3167 non-null float64\n",
      "medical_history_3     3400 non-null object\n",
      "medical_history_4     3400 non-null int64\n",
      "medical_history_5     3096 non-null float64\n",
      "medical_history_6     3400 non-null int64\n",
      "medical_history_7     3400 non-null int64\n",
      "preop_medication_1    3400 non-null int64\n",
      "preop_medication_2    3400 non-null int64\n",
      "preop_medication_3    3400 non-null int64\n",
      "preop_medication_4    3400 non-null int64\n",
      "preop_medication_5    3400 non-null int64\n",
      "preop_medication_6    3400 non-null int64\n",
      "symptom_1             3400 non-null int64\n",
      "symptom_2             3400 non-null int64\n",
      "symptom_3             3400 non-null int64\n",
      "symptom_4             3400 non-null int64\n",
      "symptom_5             3400 non-null int64\n",
      "lab_result_1          3400 non-null float64\n",
      "lab_result_2          3400 non-null float64\n",
      "lab_result_3          3400 non-null float64\n",
      "weight                3400 non-null float64\n",
      "height                3400 non-null float64\n",
      "dtypes: float64(7), int64(15), object(4)\n",
      "memory usage: 690.7+ KB\n"
     ]
    }
   ],
   "source": [
    "clinical_data.info()"
   ]
  },
  {
   "cell_type": "markdown",
   "metadata": {},
   "source": [
    "This table contains clinical information of each patient at each admission. In addition to the patient's id, weight, and height, we have 7 medical history data, 6 pre-op medication data, 5 symptom data, and 3 lab result data. Information on the discharge date is also provided in the table."
   ]
  },
  {
   "cell_type": "markdown",
   "metadata": {},
   "source": [
    "In this table, we have 2 variables that have missing data, `medical_history_2` and `medical_history_5`. We can also see that `medical_history_3` is not in the correct format, we will later check it. Also, we need to fix the dates again."
   ]
  },
  {
   "cell_type": "code",
   "execution_count": 19,
   "metadata": {
    "collapsed": true
   },
   "outputs": [],
   "source": [
    "clinical_data['date_of_admission'] = pd.to_datetime(clinical_data['date_of_admission'])\n",
    "clinical_data['date_of_discharge'] = pd.to_datetime(clinical_data['date_of_discharge'])"
   ]
  },
  {
   "cell_type": "markdown",
   "metadata": {},
   "source": [
    "As said previously, we will check `medical_history_3`."
   ]
  },
  {
   "cell_type": "code",
   "execution_count": 20,
   "metadata": {
    "scrolled": true
   },
   "outputs": [
    {
     "data": {
      "text/plain": [
       "array(['0', 'No', '1', 'Yes'], dtype=object)"
      ]
     },
     "execution_count": 20,
     "metadata": {},
     "output_type": "execute_result"
    }
   ],
   "source": [
    "clinical_data['medical_history_3'].unique()"
   ]
  },
  {
   "cell_type": "markdown",
   "metadata": {},
   "source": [
    "We need to change the `No` and `Yes` into `0` and `1` respectively. However, note that the existing `0` and `1` are string, not integer. We will also replace them."
   ]
  },
  {
   "cell_type": "code",
   "execution_count": 21,
   "metadata": {
    "collapsed": true
   },
   "outputs": [],
   "source": [
    "clean_clinical = {'medical_history_3': {'0': 0,\n",
    "                                        'No': 0,\n",
    "                                        '1': 1,\n",
    "                                        'Yes': 1}}\n",
    "clinical_data.replace(clean_clinical, inplace=True)"
   ]
  },
  {
   "cell_type": "code",
   "execution_count": 22,
   "metadata": {},
   "outputs": [
    {
     "data": {
      "text/plain": [
       "array([0, 1], dtype=int64)"
      ]
     },
     "execution_count": 22,
     "metadata": {},
     "output_type": "execute_result"
    }
   ],
   "source": [
    "clinical_data['medical_history_3'].unique()"
   ]
  },
  {
   "cell_type": "code",
   "execution_count": 23,
   "metadata": {},
   "outputs": [
    {
     "name": "stdout",
     "output_type": "stream",
     "text": [
      "<class 'pandas.core.frame.DataFrame'>\n",
      "RangeIndex: 3400 entries, 0 to 3399\n",
      "Data columns (total 26 columns):\n",
      "id                    3400 non-null object\n",
      "date_of_admission     3400 non-null datetime64[ns]\n",
      "date_of_discharge     3400 non-null datetime64[ns]\n",
      "medical_history_1     3400 non-null int64\n",
      "medical_history_2     3167 non-null float64\n",
      "medical_history_3     3400 non-null int64\n",
      "medical_history_4     3400 non-null int64\n",
      "medical_history_5     3096 non-null float64\n",
      "medical_history_6     3400 non-null int64\n",
      "medical_history_7     3400 non-null int64\n",
      "preop_medication_1    3400 non-null int64\n",
      "preop_medication_2    3400 non-null int64\n",
      "preop_medication_3    3400 non-null int64\n",
      "preop_medication_4    3400 non-null int64\n",
      "preop_medication_5    3400 non-null int64\n",
      "preop_medication_6    3400 non-null int64\n",
      "symptom_1             3400 non-null int64\n",
      "symptom_2             3400 non-null int64\n",
      "symptom_3             3400 non-null int64\n",
      "symptom_4             3400 non-null int64\n",
      "symptom_5             3400 non-null int64\n",
      "lab_result_1          3400 non-null float64\n",
      "lab_result_2          3400 non-null float64\n",
      "lab_result_3          3400 non-null float64\n",
      "weight                3400 non-null float64\n",
      "height                3400 non-null float64\n",
      "dtypes: datetime64[ns](2), float64(7), int64(16), object(1)\n",
      "memory usage: 690.7+ KB\n"
     ]
    }
   ],
   "source": [
    "clinical_data.info()"
   ]
  },
  {
   "cell_type": "markdown",
   "metadata": {},
   "source": [
    "The table is cleaned now. Note that `medical_history_3` and `medical_history_5` are in float format because of the missing values. Since we don't know cause and nature of this, we will let them be until further action is needed."
   ]
  },
  {
   "cell_type": "markdown",
   "metadata": {},
   "source": [
    "## Table Joining"
   ]
  },
  {
   "cell_type": "markdown",
   "metadata": {},
   "source": [
    "Before we join the tables, notice that there are 13600 bills and 3400 clinical data. It seems that there is a pattern here. We will take a further look before joining any tables."
   ]
  },
  {
   "cell_type": "code",
   "execution_count": 24,
   "metadata": {},
   "outputs": [
    {
     "name": "stdout",
     "output_type": "stream",
     "text": [
      "13600\n",
      "3400\n"
     ]
    }
   ],
   "source": [
    "print(len(bill_id))\n",
    "print(len(clinical_data))"
   ]
  },
  {
   "cell_type": "markdown",
   "metadata": {},
   "source": [
    "We check the number of bills for each patient on each visit."
   ]
  },
  {
   "cell_type": "code",
   "execution_count": 25,
   "metadata": {},
   "outputs": [
    {
     "data": {
      "text/plain": [
       "array([4], dtype=int64)"
      ]
     },
     "execution_count": 25,
     "metadata": {},
     "output_type": "execute_result"
    }
   ],
   "source": [
    "bill_id.groupby(['patient_id', 'date_of_admission']).count()['bill_id'].unique()"
   ]
  },
  {
   "cell_type": "markdown",
   "metadata": {},
   "source": [
    "It seems that each patient on each visit received 4 bills. As there is nothing to differentiate the bills other than the amount, we will combine the 4 bill amounts into 1 total bill for each patient on each visit. To do this, we combine `bill_id` and `bill_amount`, then we consolidate the amounts."
   ]
  },
  {
   "cell_type": "code",
   "execution_count": 26,
   "metadata": {},
   "outputs": [
    {
     "data": {
      "text/html": [
       "<div>\n",
       "<style>\n",
       "    .dataframe thead tr:only-child th {\n",
       "        text-align: right;\n",
       "    }\n",
       "\n",
       "    .dataframe thead th {\n",
       "        text-align: left;\n",
       "    }\n",
       "\n",
       "    .dataframe tbody tr th {\n",
       "        vertical-align: top;\n",
       "    }\n",
       "</style>\n",
       "<table border=\"1\" class=\"dataframe\">\n",
       "  <thead>\n",
       "    <tr style=\"text-align: right;\">\n",
       "      <th></th>\n",
       "      <th>patient_id</th>\n",
       "      <th>date_of_admission</th>\n",
       "      <th>total_amount</th>\n",
       "    </tr>\n",
       "  </thead>\n",
       "  <tbody>\n",
       "    <tr>\n",
       "      <th>0</th>\n",
       "      <td>00225710a878eff524a1d13be817e8e2</td>\n",
       "      <td>2014-04-10</td>\n",
       "      <td>5190.566695</td>\n",
       "    </tr>\n",
       "    <tr>\n",
       "      <th>1</th>\n",
       "      <td>0029d90eb654699c18001c17efb0f129</td>\n",
       "      <td>2012-11-07</td>\n",
       "      <td>22601.497872</td>\n",
       "    </tr>\n",
       "    <tr>\n",
       "      <th>2</th>\n",
       "      <td>0040333abd68527ecb53e1db9073f52e</td>\n",
       "      <td>2013-01-19</td>\n",
       "      <td>17447.181635</td>\n",
       "    </tr>\n",
       "    <tr>\n",
       "      <th>3</th>\n",
       "      <td>00473b58e3dc8ae37b3cb34069705083</td>\n",
       "      <td>2014-02-10</td>\n",
       "      <td>15285.883220</td>\n",
       "    </tr>\n",
       "    <tr>\n",
       "      <th>4</th>\n",
       "      <td>0078662d1d983dde68ea057c42d5b5cf</td>\n",
       "      <td>2012-04-28</td>\n",
       "      <td>73477.869010</td>\n",
       "    </tr>\n",
       "  </tbody>\n",
       "</table>\n",
       "</div>"
      ],
      "text/plain": [
       "                         patient_id date_of_admission  total_amount\n",
       "0  00225710a878eff524a1d13be817e8e2        2014-04-10   5190.566695\n",
       "1  0029d90eb654699c18001c17efb0f129        2012-11-07  22601.497872\n",
       "2  0040333abd68527ecb53e1db9073f52e        2013-01-19  17447.181635\n",
       "3  00473b58e3dc8ae37b3cb34069705083        2014-02-10  15285.883220\n",
       "4  0078662d1d983dde68ea057c42d5b5cf        2012-04-28  73477.869010"
      ]
     },
     "execution_count": 26,
     "metadata": {},
     "output_type": "execute_result"
    }
   ],
   "source": [
    "df = bill_id.merge(bill_amount,  how='left',  on='bill_id').groupby(['patient_id', 'date_of_admission'])['amount'].sum().reset_index().rename(index=str, columns={\"amount\": \"total_amount\"})\n",
    "df.head()"
   ]
  },
  {
   "cell_type": "markdown",
   "metadata": {},
   "source": [
    "Next, we combine the new table above with the other two tables. We join `df` with `clinical_data` on `patient_id` and `date_of_admission`, and we join it with `demographics` using just the `patient_id`."
   ]
  },
  {
   "cell_type": "code",
   "execution_count": 27,
   "metadata": {},
   "outputs": [
    {
     "data": {
      "text/html": [
       "<div>\n",
       "<style>\n",
       "    .dataframe thead tr:only-child th {\n",
       "        text-align: right;\n",
       "    }\n",
       "\n",
       "    .dataframe thead th {\n",
       "        text-align: left;\n",
       "    }\n",
       "\n",
       "    .dataframe tbody tr th {\n",
       "        vertical-align: top;\n",
       "    }\n",
       "</style>\n",
       "<table border=\"1\" class=\"dataframe\">\n",
       "  <thead>\n",
       "    <tr style=\"text-align: right;\">\n",
       "      <th></th>\n",
       "      <th>patient_id</th>\n",
       "      <th>date_of_admission</th>\n",
       "      <th>total_amount</th>\n",
       "      <th>date_of_discharge</th>\n",
       "      <th>medical_history_1</th>\n",
       "      <th>medical_history_2</th>\n",
       "      <th>medical_history_3</th>\n",
       "      <th>medical_history_4</th>\n",
       "      <th>medical_history_5</th>\n",
       "      <th>medical_history_6</th>\n",
       "      <th>...</th>\n",
       "      <th>symptom_5</th>\n",
       "      <th>lab_result_1</th>\n",
       "      <th>lab_result_2</th>\n",
       "      <th>lab_result_3</th>\n",
       "      <th>weight</th>\n",
       "      <th>height</th>\n",
       "      <th>gender</th>\n",
       "      <th>race</th>\n",
       "      <th>resident_status</th>\n",
       "      <th>date_of_birth</th>\n",
       "    </tr>\n",
       "  </thead>\n",
       "  <tbody>\n",
       "    <tr>\n",
       "      <th>0</th>\n",
       "      <td>00225710a878eff524a1d13be817e8e2</td>\n",
       "      <td>2014-04-10</td>\n",
       "      <td>5190.566695</td>\n",
       "      <td>2014-04-22</td>\n",
       "      <td>0</td>\n",
       "      <td>0.0</td>\n",
       "      <td>0</td>\n",
       "      <td>0</td>\n",
       "      <td>0.0</td>\n",
       "      <td>0</td>\n",
       "      <td>...</td>\n",
       "      <td>0</td>\n",
       "      <td>13.4</td>\n",
       "      <td>27.9</td>\n",
       "      <td>96.0</td>\n",
       "      <td>66.9</td>\n",
       "      <td>155.0</td>\n",
       "      <td>Female</td>\n",
       "      <td>Chinese</td>\n",
       "      <td>Singaporean</td>\n",
       "      <td>1983-01-16</td>\n",
       "    </tr>\n",
       "    <tr>\n",
       "      <th>1</th>\n",
       "      <td>0029d90eb654699c18001c17efb0f129</td>\n",
       "      <td>2012-11-07</td>\n",
       "      <td>22601.497872</td>\n",
       "      <td>2012-11-20</td>\n",
       "      <td>0</td>\n",
       "      <td>1.0</td>\n",
       "      <td>0</td>\n",
       "      <td>0</td>\n",
       "      <td>0.0</td>\n",
       "      <td>1</td>\n",
       "      <td>...</td>\n",
       "      <td>1</td>\n",
       "      <td>16.7</td>\n",
       "      <td>26.5</td>\n",
       "      <td>109.0</td>\n",
       "      <td>89.1</td>\n",
       "      <td>160.0</td>\n",
       "      <td>Female</td>\n",
       "      <td>Chinese</td>\n",
       "      <td>Singaporean</td>\n",
       "      <td>1943-10-14</td>\n",
       "    </tr>\n",
       "    <tr>\n",
       "      <th>2</th>\n",
       "      <td>0040333abd68527ecb53e1db9073f52e</td>\n",
       "      <td>2013-01-19</td>\n",
       "      <td>17447.181635</td>\n",
       "      <td>2013-01-31</td>\n",
       "      <td>0</td>\n",
       "      <td>1.0</td>\n",
       "      <td>0</td>\n",
       "      <td>0</td>\n",
       "      <td>0.0</td>\n",
       "      <td>0</td>\n",
       "      <td>...</td>\n",
       "      <td>1</td>\n",
       "      <td>14.8</td>\n",
       "      <td>25.2</td>\n",
       "      <td>96.0</td>\n",
       "      <td>79.5</td>\n",
       "      <td>172.0</td>\n",
       "      <td>Male</td>\n",
       "      <td>Indian</td>\n",
       "      <td>Singaporean</td>\n",
       "      <td>1972-08-26</td>\n",
       "    </tr>\n",
       "    <tr>\n",
       "      <th>3</th>\n",
       "      <td>00473b58e3dc8ae37b3cb34069705083</td>\n",
       "      <td>2014-02-10</td>\n",
       "      <td>15285.883220</td>\n",
       "      <td>2014-02-15</td>\n",
       "      <td>1</td>\n",
       "      <td>0.0</td>\n",
       "      <td>0</td>\n",
       "      <td>0</td>\n",
       "      <td>0.0</td>\n",
       "      <td>0</td>\n",
       "      <td>...</td>\n",
       "      <td>0</td>\n",
       "      <td>14.9</td>\n",
       "      <td>28.7</td>\n",
       "      <td>122.0</td>\n",
       "      <td>81.1</td>\n",
       "      <td>160.0</td>\n",
       "      <td>Female</td>\n",
       "      <td>Chinese</td>\n",
       "      <td>Singaporean</td>\n",
       "      <td>1976-07-23</td>\n",
       "    </tr>\n",
       "    <tr>\n",
       "      <th>4</th>\n",
       "      <td>0078662d1d983dde68ea057c42d5b5cf</td>\n",
       "      <td>2012-04-28</td>\n",
       "      <td>73477.869010</td>\n",
       "      <td>2012-05-10</td>\n",
       "      <td>0</td>\n",
       "      <td>1.0</td>\n",
       "      <td>0</td>\n",
       "      <td>0</td>\n",
       "      <td>0.0</td>\n",
       "      <td>1</td>\n",
       "      <td>...</td>\n",
       "      <td>1</td>\n",
       "      <td>14.2</td>\n",
       "      <td>27.2</td>\n",
       "      <td>89.0</td>\n",
       "      <td>74.7</td>\n",
       "      <td>173.0</td>\n",
       "      <td>Male</td>\n",
       "      <td>Malay</td>\n",
       "      <td>Foreigner</td>\n",
       "      <td>1942-10-19</td>\n",
       "    </tr>\n",
       "  </tbody>\n",
       "</table>\n",
       "<p>5 rows × 31 columns</p>\n",
       "</div>"
      ],
      "text/plain": [
       "                         patient_id date_of_admission  total_amount  \\\n",
       "0  00225710a878eff524a1d13be817e8e2        2014-04-10   5190.566695   \n",
       "1  0029d90eb654699c18001c17efb0f129        2012-11-07  22601.497872   \n",
       "2  0040333abd68527ecb53e1db9073f52e        2013-01-19  17447.181635   \n",
       "3  00473b58e3dc8ae37b3cb34069705083        2014-02-10  15285.883220   \n",
       "4  0078662d1d983dde68ea057c42d5b5cf        2012-04-28  73477.869010   \n",
       "\n",
       "  date_of_discharge  medical_history_1  medical_history_2  medical_history_3  \\\n",
       "0        2014-04-22                  0                0.0                  0   \n",
       "1        2012-11-20                  0                1.0                  0   \n",
       "2        2013-01-31                  0                1.0                  0   \n",
       "3        2014-02-15                  1                0.0                  0   \n",
       "4        2012-05-10                  0                1.0                  0   \n",
       "\n",
       "   medical_history_4  medical_history_5  medical_history_6      ...        \\\n",
       "0                  0                0.0                  0      ...         \n",
       "1                  0                0.0                  1      ...         \n",
       "2                  0                0.0                  0      ...         \n",
       "3                  0                0.0                  0      ...         \n",
       "4                  0                0.0                  1      ...         \n",
       "\n",
       "   symptom_5  lab_result_1  lab_result_2  lab_result_3  weight  height  \\\n",
       "0          0          13.4          27.9          96.0    66.9   155.0   \n",
       "1          1          16.7          26.5         109.0    89.1   160.0   \n",
       "2          1          14.8          25.2          96.0    79.5   172.0   \n",
       "3          0          14.9          28.7         122.0    81.1   160.0   \n",
       "4          1          14.2          27.2          89.0    74.7   173.0   \n",
       "\n",
       "   gender     race  resident_status  date_of_birth  \n",
       "0  Female  Chinese      Singaporean     1983-01-16  \n",
       "1  Female  Chinese      Singaporean     1943-10-14  \n",
       "2    Male   Indian      Singaporean     1972-08-26  \n",
       "3  Female  Chinese      Singaporean     1976-07-23  \n",
       "4    Male    Malay        Foreigner     1942-10-19  \n",
       "\n",
       "[5 rows x 31 columns]"
      ]
     },
     "execution_count": 27,
     "metadata": {},
     "output_type": "execute_result"
    }
   ],
   "source": [
    "df = df.merge(clinical_data, \n",
    "              how='left', \n",
    "              left_on=['patient_id', 'date_of_admission'], \n",
    "              right_on=['id', 'date_of_admission']).drop('id',1).merge(demographics,\n",
    "                                                                       how='left',\n",
    "                                                                       on='patient_id')\n",
    "df.head()"
   ]
  },
  {
   "cell_type": "markdown",
   "metadata": {},
   "source": [
    "Since we have `date_of_discharge` and `date_of_admission`, we can compute some variables that may be useful. The first one is `lenght_of_stay`, which is the number of days the patient was hospitalised. The second one is `age`, which is the age of the patient during hospitalisation."
   ]
  },
  {
   "cell_type": "code",
   "execution_count": 28,
   "metadata": {
    "collapsed": true
   },
   "outputs": [],
   "source": [
    "df['length_of_stay'] = (df['date_of_discharge'] - df['date_of_admission']).dt.days\n",
    "df['age'] = (df['date_of_admission'] - df['date_of_birth']).astype('timedelta64[Y]').astype('int64')"
   ]
  },
  {
   "cell_type": "markdown",
   "metadata": {},
   "source": [
    "Afterwards, we set `patient_id` and `date_of_admission` as the indices for our table."
   ]
  },
  {
   "cell_type": "code",
   "execution_count": 29,
   "metadata": {},
   "outputs": [
    {
     "data": {
      "text/html": [
       "<div>\n",
       "<style>\n",
       "    .dataframe thead tr:only-child th {\n",
       "        text-align: right;\n",
       "    }\n",
       "\n",
       "    .dataframe thead th {\n",
       "        text-align: left;\n",
       "    }\n",
       "\n",
       "    .dataframe tbody tr th {\n",
       "        vertical-align: top;\n",
       "    }\n",
       "</style>\n",
       "<table border=\"1\" class=\"dataframe\">\n",
       "  <thead>\n",
       "    <tr style=\"text-align: right;\">\n",
       "      <th></th>\n",
       "      <th></th>\n",
       "      <th>total_amount</th>\n",
       "      <th>date_of_discharge</th>\n",
       "      <th>medical_history_1</th>\n",
       "      <th>medical_history_2</th>\n",
       "      <th>medical_history_3</th>\n",
       "      <th>medical_history_4</th>\n",
       "      <th>medical_history_5</th>\n",
       "      <th>medical_history_6</th>\n",
       "      <th>medical_history_7</th>\n",
       "      <th>preop_medication_1</th>\n",
       "      <th>...</th>\n",
       "      <th>lab_result_2</th>\n",
       "      <th>lab_result_3</th>\n",
       "      <th>weight</th>\n",
       "      <th>height</th>\n",
       "      <th>gender</th>\n",
       "      <th>race</th>\n",
       "      <th>resident_status</th>\n",
       "      <th>date_of_birth</th>\n",
       "      <th>length_of_stay</th>\n",
       "      <th>age</th>\n",
       "    </tr>\n",
       "    <tr>\n",
       "      <th>patient_id</th>\n",
       "      <th>date_of_admission</th>\n",
       "      <th></th>\n",
       "      <th></th>\n",
       "      <th></th>\n",
       "      <th></th>\n",
       "      <th></th>\n",
       "      <th></th>\n",
       "      <th></th>\n",
       "      <th></th>\n",
       "      <th></th>\n",
       "      <th></th>\n",
       "      <th></th>\n",
       "      <th></th>\n",
       "      <th></th>\n",
       "      <th></th>\n",
       "      <th></th>\n",
       "      <th></th>\n",
       "      <th></th>\n",
       "      <th></th>\n",
       "      <th></th>\n",
       "      <th></th>\n",
       "      <th></th>\n",
       "    </tr>\n",
       "  </thead>\n",
       "  <tbody>\n",
       "    <tr>\n",
       "      <th>00225710a878eff524a1d13be817e8e2</th>\n",
       "      <th>2014-04-10</th>\n",
       "      <td>5190.566695</td>\n",
       "      <td>2014-04-22</td>\n",
       "      <td>0</td>\n",
       "      <td>0.0</td>\n",
       "      <td>0</td>\n",
       "      <td>0</td>\n",
       "      <td>0.0</td>\n",
       "      <td>0</td>\n",
       "      <td>1</td>\n",
       "      <td>0</td>\n",
       "      <td>...</td>\n",
       "      <td>27.9</td>\n",
       "      <td>96.0</td>\n",
       "      <td>66.9</td>\n",
       "      <td>155.0</td>\n",
       "      <td>Female</td>\n",
       "      <td>Chinese</td>\n",
       "      <td>Singaporean</td>\n",
       "      <td>1983-01-16</td>\n",
       "      <td>12</td>\n",
       "      <td>31</td>\n",
       "    </tr>\n",
       "    <tr>\n",
       "      <th>0029d90eb654699c18001c17efb0f129</th>\n",
       "      <th>2012-11-07</th>\n",
       "      <td>22601.497872</td>\n",
       "      <td>2012-11-20</td>\n",
       "      <td>0</td>\n",
       "      <td>1.0</td>\n",
       "      <td>0</td>\n",
       "      <td>0</td>\n",
       "      <td>0.0</td>\n",
       "      <td>1</td>\n",
       "      <td>0</td>\n",
       "      <td>0</td>\n",
       "      <td>...</td>\n",
       "      <td>26.5</td>\n",
       "      <td>109.0</td>\n",
       "      <td>89.1</td>\n",
       "      <td>160.0</td>\n",
       "      <td>Female</td>\n",
       "      <td>Chinese</td>\n",
       "      <td>Singaporean</td>\n",
       "      <td>1943-10-14</td>\n",
       "      <td>13</td>\n",
       "      <td>69</td>\n",
       "    </tr>\n",
       "    <tr>\n",
       "      <th>0040333abd68527ecb53e1db9073f52e</th>\n",
       "      <th>2013-01-19</th>\n",
       "      <td>17447.181635</td>\n",
       "      <td>2013-01-31</td>\n",
       "      <td>0</td>\n",
       "      <td>1.0</td>\n",
       "      <td>0</td>\n",
       "      <td>0</td>\n",
       "      <td>0.0</td>\n",
       "      <td>0</td>\n",
       "      <td>1</td>\n",
       "      <td>0</td>\n",
       "      <td>...</td>\n",
       "      <td>25.2</td>\n",
       "      <td>96.0</td>\n",
       "      <td>79.5</td>\n",
       "      <td>172.0</td>\n",
       "      <td>Male</td>\n",
       "      <td>Indian</td>\n",
       "      <td>Singaporean</td>\n",
       "      <td>1972-08-26</td>\n",
       "      <td>12</td>\n",
       "      <td>40</td>\n",
       "    </tr>\n",
       "    <tr>\n",
       "      <th>00473b58e3dc8ae37b3cb34069705083</th>\n",
       "      <th>2014-02-10</th>\n",
       "      <td>15285.883220</td>\n",
       "      <td>2014-02-15</td>\n",
       "      <td>1</td>\n",
       "      <td>0.0</td>\n",
       "      <td>0</td>\n",
       "      <td>0</td>\n",
       "      <td>0.0</td>\n",
       "      <td>0</td>\n",
       "      <td>0</td>\n",
       "      <td>0</td>\n",
       "      <td>...</td>\n",
       "      <td>28.7</td>\n",
       "      <td>122.0</td>\n",
       "      <td>81.1</td>\n",
       "      <td>160.0</td>\n",
       "      <td>Female</td>\n",
       "      <td>Chinese</td>\n",
       "      <td>Singaporean</td>\n",
       "      <td>1976-07-23</td>\n",
       "      <td>5</td>\n",
       "      <td>37</td>\n",
       "    </tr>\n",
       "    <tr>\n",
       "      <th>0078662d1d983dde68ea057c42d5b5cf</th>\n",
       "      <th>2012-04-28</th>\n",
       "      <td>73477.869010</td>\n",
       "      <td>2012-05-10</td>\n",
       "      <td>0</td>\n",
       "      <td>1.0</td>\n",
       "      <td>0</td>\n",
       "      <td>0</td>\n",
       "      <td>0.0</td>\n",
       "      <td>1</td>\n",
       "      <td>0</td>\n",
       "      <td>1</td>\n",
       "      <td>...</td>\n",
       "      <td>27.2</td>\n",
       "      <td>89.0</td>\n",
       "      <td>74.7</td>\n",
       "      <td>173.0</td>\n",
       "      <td>Male</td>\n",
       "      <td>Malay</td>\n",
       "      <td>Foreigner</td>\n",
       "      <td>1942-10-19</td>\n",
       "      <td>12</td>\n",
       "      <td>69</td>\n",
       "    </tr>\n",
       "  </tbody>\n",
       "</table>\n",
       "<p>5 rows × 31 columns</p>\n",
       "</div>"
      ],
      "text/plain": [
       "                                                    total_amount  \\\n",
       "patient_id                       date_of_admission                 \n",
       "00225710a878eff524a1d13be817e8e2 2014-04-10          5190.566695   \n",
       "0029d90eb654699c18001c17efb0f129 2012-11-07         22601.497872   \n",
       "0040333abd68527ecb53e1db9073f52e 2013-01-19         17447.181635   \n",
       "00473b58e3dc8ae37b3cb34069705083 2014-02-10         15285.883220   \n",
       "0078662d1d983dde68ea057c42d5b5cf 2012-04-28         73477.869010   \n",
       "\n",
       "                                                   date_of_discharge  \\\n",
       "patient_id                       date_of_admission                     \n",
       "00225710a878eff524a1d13be817e8e2 2014-04-10               2014-04-22   \n",
       "0029d90eb654699c18001c17efb0f129 2012-11-07               2012-11-20   \n",
       "0040333abd68527ecb53e1db9073f52e 2013-01-19               2013-01-31   \n",
       "00473b58e3dc8ae37b3cb34069705083 2014-02-10               2014-02-15   \n",
       "0078662d1d983dde68ea057c42d5b5cf 2012-04-28               2012-05-10   \n",
       "\n",
       "                                                    medical_history_1  \\\n",
       "patient_id                       date_of_admission                      \n",
       "00225710a878eff524a1d13be817e8e2 2014-04-10                         0   \n",
       "0029d90eb654699c18001c17efb0f129 2012-11-07                         0   \n",
       "0040333abd68527ecb53e1db9073f52e 2013-01-19                         0   \n",
       "00473b58e3dc8ae37b3cb34069705083 2014-02-10                         1   \n",
       "0078662d1d983dde68ea057c42d5b5cf 2012-04-28                         0   \n",
       "\n",
       "                                                    medical_history_2  \\\n",
       "patient_id                       date_of_admission                      \n",
       "00225710a878eff524a1d13be817e8e2 2014-04-10                       0.0   \n",
       "0029d90eb654699c18001c17efb0f129 2012-11-07                       1.0   \n",
       "0040333abd68527ecb53e1db9073f52e 2013-01-19                       1.0   \n",
       "00473b58e3dc8ae37b3cb34069705083 2014-02-10                       0.0   \n",
       "0078662d1d983dde68ea057c42d5b5cf 2012-04-28                       1.0   \n",
       "\n",
       "                                                    medical_history_3  \\\n",
       "patient_id                       date_of_admission                      \n",
       "00225710a878eff524a1d13be817e8e2 2014-04-10                         0   \n",
       "0029d90eb654699c18001c17efb0f129 2012-11-07                         0   \n",
       "0040333abd68527ecb53e1db9073f52e 2013-01-19                         0   \n",
       "00473b58e3dc8ae37b3cb34069705083 2014-02-10                         0   \n",
       "0078662d1d983dde68ea057c42d5b5cf 2012-04-28                         0   \n",
       "\n",
       "                                                    medical_history_4  \\\n",
       "patient_id                       date_of_admission                      \n",
       "00225710a878eff524a1d13be817e8e2 2014-04-10                         0   \n",
       "0029d90eb654699c18001c17efb0f129 2012-11-07                         0   \n",
       "0040333abd68527ecb53e1db9073f52e 2013-01-19                         0   \n",
       "00473b58e3dc8ae37b3cb34069705083 2014-02-10                         0   \n",
       "0078662d1d983dde68ea057c42d5b5cf 2012-04-28                         0   \n",
       "\n",
       "                                                    medical_history_5  \\\n",
       "patient_id                       date_of_admission                      \n",
       "00225710a878eff524a1d13be817e8e2 2014-04-10                       0.0   \n",
       "0029d90eb654699c18001c17efb0f129 2012-11-07                       0.0   \n",
       "0040333abd68527ecb53e1db9073f52e 2013-01-19                       0.0   \n",
       "00473b58e3dc8ae37b3cb34069705083 2014-02-10                       0.0   \n",
       "0078662d1d983dde68ea057c42d5b5cf 2012-04-28                       0.0   \n",
       "\n",
       "                                                    medical_history_6  \\\n",
       "patient_id                       date_of_admission                      \n",
       "00225710a878eff524a1d13be817e8e2 2014-04-10                         0   \n",
       "0029d90eb654699c18001c17efb0f129 2012-11-07                         1   \n",
       "0040333abd68527ecb53e1db9073f52e 2013-01-19                         0   \n",
       "00473b58e3dc8ae37b3cb34069705083 2014-02-10                         0   \n",
       "0078662d1d983dde68ea057c42d5b5cf 2012-04-28                         1   \n",
       "\n",
       "                                                    medical_history_7  \\\n",
       "patient_id                       date_of_admission                      \n",
       "00225710a878eff524a1d13be817e8e2 2014-04-10                         1   \n",
       "0029d90eb654699c18001c17efb0f129 2012-11-07                         0   \n",
       "0040333abd68527ecb53e1db9073f52e 2013-01-19                         1   \n",
       "00473b58e3dc8ae37b3cb34069705083 2014-02-10                         0   \n",
       "0078662d1d983dde68ea057c42d5b5cf 2012-04-28                         0   \n",
       "\n",
       "                                                    preop_medication_1 ...   \\\n",
       "patient_id                       date_of_admission                     ...    \n",
       "00225710a878eff524a1d13be817e8e2 2014-04-10                          0 ...    \n",
       "0029d90eb654699c18001c17efb0f129 2012-11-07                          0 ...    \n",
       "0040333abd68527ecb53e1db9073f52e 2013-01-19                          0 ...    \n",
       "00473b58e3dc8ae37b3cb34069705083 2014-02-10                          0 ...    \n",
       "0078662d1d983dde68ea057c42d5b5cf 2012-04-28                          1 ...    \n",
       "\n",
       "                                                    lab_result_2  \\\n",
       "patient_id                       date_of_admission                 \n",
       "00225710a878eff524a1d13be817e8e2 2014-04-10                 27.9   \n",
       "0029d90eb654699c18001c17efb0f129 2012-11-07                 26.5   \n",
       "0040333abd68527ecb53e1db9073f52e 2013-01-19                 25.2   \n",
       "00473b58e3dc8ae37b3cb34069705083 2014-02-10                 28.7   \n",
       "0078662d1d983dde68ea057c42d5b5cf 2012-04-28                 27.2   \n",
       "\n",
       "                                                    lab_result_3  weight  \\\n",
       "patient_id                       date_of_admission                         \n",
       "00225710a878eff524a1d13be817e8e2 2014-04-10                 96.0    66.9   \n",
       "0029d90eb654699c18001c17efb0f129 2012-11-07                109.0    89.1   \n",
       "0040333abd68527ecb53e1db9073f52e 2013-01-19                 96.0    79.5   \n",
       "00473b58e3dc8ae37b3cb34069705083 2014-02-10                122.0    81.1   \n",
       "0078662d1d983dde68ea057c42d5b5cf 2012-04-28                 89.0    74.7   \n",
       "\n",
       "                                                    height  gender     race  \\\n",
       "patient_id                       date_of_admission                            \n",
       "00225710a878eff524a1d13be817e8e2 2014-04-10          155.0  Female  Chinese   \n",
       "0029d90eb654699c18001c17efb0f129 2012-11-07          160.0  Female  Chinese   \n",
       "0040333abd68527ecb53e1db9073f52e 2013-01-19          172.0    Male   Indian   \n",
       "00473b58e3dc8ae37b3cb34069705083 2014-02-10          160.0  Female  Chinese   \n",
       "0078662d1d983dde68ea057c42d5b5cf 2012-04-28          173.0    Male    Malay   \n",
       "\n",
       "                                                    resident_status  \\\n",
       "patient_id                       date_of_admission                    \n",
       "00225710a878eff524a1d13be817e8e2 2014-04-10             Singaporean   \n",
       "0029d90eb654699c18001c17efb0f129 2012-11-07             Singaporean   \n",
       "0040333abd68527ecb53e1db9073f52e 2013-01-19             Singaporean   \n",
       "00473b58e3dc8ae37b3cb34069705083 2014-02-10             Singaporean   \n",
       "0078662d1d983dde68ea057c42d5b5cf 2012-04-28               Foreigner   \n",
       "\n",
       "                                                    date_of_birth  \\\n",
       "patient_id                       date_of_admission                  \n",
       "00225710a878eff524a1d13be817e8e2 2014-04-10            1983-01-16   \n",
       "0029d90eb654699c18001c17efb0f129 2012-11-07            1943-10-14   \n",
       "0040333abd68527ecb53e1db9073f52e 2013-01-19            1972-08-26   \n",
       "00473b58e3dc8ae37b3cb34069705083 2014-02-10            1976-07-23   \n",
       "0078662d1d983dde68ea057c42d5b5cf 2012-04-28            1942-10-19   \n",
       "\n",
       "                                                    length_of_stay  age  \n",
       "patient_id                       date_of_admission                       \n",
       "00225710a878eff524a1d13be817e8e2 2014-04-10                     12   31  \n",
       "0029d90eb654699c18001c17efb0f129 2012-11-07                     13   69  \n",
       "0040333abd68527ecb53e1db9073f52e 2013-01-19                     12   40  \n",
       "00473b58e3dc8ae37b3cb34069705083 2014-02-10                      5   37  \n",
       "0078662d1d983dde68ea057c42d5b5cf 2012-04-28                     12   69  \n",
       "\n",
       "[5 rows x 31 columns]"
      ]
     },
     "execution_count": 29,
     "metadata": {},
     "output_type": "execute_result"
    }
   ],
   "source": [
    "df.set_index(['patient_id', 'date_of_admission'], inplace=True)\n",
    "df.head()"
   ]
  },
  {
   "cell_type": "code",
   "execution_count": 30,
   "metadata": {
    "collapsed": true
   },
   "outputs": [],
   "source": [
    "#df.reset_index()[df.reset_index()['patient_id'].duplicated(keep=False)].set_index(['patient_id','date_of_admission']).iloc[:,3:10]"
   ]
  },
  {
   "cell_type": "markdown",
   "metadata": {},
   "source": [
    "## Exploratory Data Analysis"
   ]
  },
  {
   "cell_type": "markdown",
   "metadata": {},
   "source": [
    "In this section and the following sections, we will treat `total_amount` as the target variable with the other variables as its predictors. However, we will also explore any interesting pattern between the predictors. We start by taking a look at some properties of our data. "
   ]
  },
  {
   "cell_type": "code",
   "execution_count": 31,
   "metadata": {
    "scrolled": true
   },
   "outputs": [
    {
     "name": "stdout",
     "output_type": "stream",
     "text": [
      "<class 'pandas.core.frame.DataFrame'>\n",
      "MultiIndex: 3400 entries, (00225710a878eff524a1d13be817e8e2, 2014-04-10 00:00:00) to (ffd9644f8daf1d28493a7cd700bb30f4, 2013-06-04 00:00:00)\n",
      "Data columns (total 31 columns):\n",
      "total_amount          3400 non-null float64\n",
      "date_of_discharge     3400 non-null datetime64[ns]\n",
      "medical_history_1     3400 non-null int64\n",
      "medical_history_2     3167 non-null float64\n",
      "medical_history_3     3400 non-null int64\n",
      "medical_history_4     3400 non-null int64\n",
      "medical_history_5     3096 non-null float64\n",
      "medical_history_6     3400 non-null int64\n",
      "medical_history_7     3400 non-null int64\n",
      "preop_medication_1    3400 non-null int64\n",
      "preop_medication_2    3400 non-null int64\n",
      "preop_medication_3    3400 non-null int64\n",
      "preop_medication_4    3400 non-null int64\n",
      "preop_medication_5    3400 non-null int64\n",
      "preop_medication_6    3400 non-null int64\n",
      "symptom_1             3400 non-null int64\n",
      "symptom_2             3400 non-null int64\n",
      "symptom_3             3400 non-null int64\n",
      "symptom_4             3400 non-null int64\n",
      "symptom_5             3400 non-null int64\n",
      "lab_result_1          3400 non-null float64\n",
      "lab_result_2          3400 non-null float64\n",
      "lab_result_3          3400 non-null float64\n",
      "weight                3400 non-null float64\n",
      "height                3400 non-null float64\n",
      "gender                3400 non-null object\n",
      "race                  3400 non-null object\n",
      "resident_status       3400 non-null object\n",
      "date_of_birth         3400 non-null datetime64[ns]\n",
      "length_of_stay        3400 non-null int64\n",
      "age                   3400 non-null int64\n",
      "dtypes: datetime64[ns](2), float64(8), int64(18), object(3)\n",
      "memory usage: 871.7+ KB\n"
     ]
    }
   ],
   "source": [
    "df.info()"
   ]
  },
  {
   "cell_type": "markdown",
   "metadata": {},
   "source": [
    "Excluding the dates, itt seems that we have two types of predictors in our data: numerical variables and categorical variables."
   ]
  },
  {
   "cell_type": "markdown",
   "metadata": {},
   "source": [
    "### Numerical Variables"
   ]
  },
  {
   "cell_type": "markdown",
   "metadata": {},
   "source": [
    "First of all, we take a look at all numerical variables. We compute the correlations between the predictors and show the heatmap of the computed correlation matrix."
   ]
  },
  {
   "cell_type": "code",
   "execution_count": 32,
   "metadata": {},
   "outputs": [
    {
     "data": {
      "image/png": "[encoded data removed]",
      "text/plain": [
       "<matplotlib.figure.Figure at 0x290ddd50c18>"
      ]
     },
     "metadata": {},
     "output_type": "display_data"
    }
   ],
   "source": [
    "corr = df.drop('total_amount', axis=1).corr()\n",
    "plt.figure(figsize=(12, 10))\n",
    "\n",
    "sns.heatmap(corr[(corr >= 0.05) | (corr <= -0.05)], \n",
    "            cmap='viridis', vmax=1.0, vmin=-1.0, linewidths=0.1,\n",
    "            annot=True, annot_kws={\"size\": 8}, square=True);"
   ]
  },
  {
   "cell_type": "markdown",
   "metadata": {},
   "source": [
    "From the matrix above, we can see that the variables are uncorrelated of each other. With the exception of `weight` and `height` that have a correlation coefficient of `0.27`, all other variable pairs have correlation coefficients below `0.05` in absolute value."
   ]
  },
  {
   "cell_type": "markdown",
   "metadata": {},
   "source": [
    "Besides looking at the linear relationship between predictors, we also take a look at the linear relationship between `total_amount` and the predictors."
   ]
  },
  {
   "cell_type": "code",
   "execution_count": 33,
   "metadata": {
    "scrolled": false
   },
   "outputs": [
    {
     "data": {
      "text/plain": [
       "symptom_5             0.516790\n",
       "age                   0.325586\n",
       "medical_history_1     0.226518\n",
       "symptom_3             0.183988\n",
       "symptom_2             0.157819\n",
       "weight                0.157511\n",
       "medical_history_6     0.141640\n",
       "symptom_4             0.130236\n",
       "symptom_1             0.128317\n",
       "medical_history_7     0.038951\n",
       "medical_history_5     0.036146\n",
       "medical_history_2     0.033965\n",
       "preop_medication_2    0.032263\n",
       "height                0.026057\n",
       "preop_medication_6    0.021606\n",
       "preop_medication_1    0.016112\n",
       "preop_medication_4    0.015196\n",
       "medical_history_3     0.011539\n",
       "medical_history_4    -0.009356\n",
       "length_of_stay        0.009006\n",
       "preop_medication_3    0.007839\n",
       "lab_result_1         -0.006518\n",
       "lab_result_2         -0.005537\n",
       "preop_medication_5    0.000453\n",
       "lab_result_3          0.000092\n",
       "Name: total_amount, dtype: float64"
      ]
     },
     "execution_count": 33,
     "metadata": {},
     "output_type": "execute_result"
    }
   ],
   "source": [
    "top_corr = df.corr()['total_amount'][1:].abs().sort_values(ascending=False).index\n",
    "top_corr = df.corr()['total_amount'][1:][top_corr]\n",
    "top_corr"
   ]
  },
  {
   "cell_type": "markdown",
   "metadata": {},
   "source": [
    "It looks like we have some variables that are correlated with `total_amount`. Of course, this result follows our intuition that an old and overweight patient with several symptoms or medical histories may need a more advanced procedure and care, thus increasing the bill amount."
   ]
  },
  {
   "cell_type": "markdown",
   "metadata": {},
   "source": [
    "Here we will plot `total_amount` against those correlated variables. To save space, we only plot the top 6 variables."
   ]
  },
  {
   "cell_type": "code",
   "execution_count": 34,
   "metadata": {
    "scrolled": true
   },
   "outputs": [
    {
     "data": {
      "text/plain": [
       "['symptom_5', 'age', 'medical_history_1', 'symptom_3', 'symptom_2', 'weight']"
      ]
     },
     "execution_count": 34,
     "metadata": {},
     "output_type": "execute_result"
    }
   ],
   "source": [
    "# Q -> Q\n",
    "features_to_analyse = [i for i in top_corr.index][:6]\n",
    "features_to_analyse"
   ]
  },
  {
   "cell_type": "code",
   "execution_count": 35,
   "metadata": {
    "scrolled": false
   },
   "outputs": [
    {
     "data": {
      "image/png": "[encoded data removed]",
      "text/plain": [
       "<matplotlib.figure.Figure at 0x290ddd4b208>"
      ]
     },
     "metadata": {},
     "output_type": "display_data"
    }
   ],
   "source": [
    "fig, ax = plt.subplots(2, 3, figsize = (18, 8))\n",
    "\n",
    "for i, ax in enumerate(fig.axes):\n",
    "    sns.regplot(x=features_to_analyse[i], y='total_amount', data=df, ax=ax)"
   ]
  },
  {
   "cell_type": "markdown",
   "metadata": {},
   "source": [
    "From the plots above, we can see that `total_amount` increases as the variables increase. We suppose these variables will be important in predicting `total_amount`, but later on we will check them quantitatively using machine learning methods."
   ]
  },
  {
   "cell_type": "markdown",
   "metadata": {},
   "source": [
    "We can further separate the numerical variables in our data into two: continuous variables and binary variables. Here we will take a look at each of them."
   ]
  },
  {
   "cell_type": "markdown",
   "metadata": {},
   "source": [
    "#### Continuous Variables"
   ]
  },
  {
   "cell_type": "markdown",
   "metadata": {},
   "source": [
    "First of all, we take a look at how the continuous variables are distributed with histograms."
   ]
  },
  {
   "cell_type": "code",
   "execution_count": 36,
   "metadata": {
    "collapsed": true
   },
   "outputs": [],
   "source": [
    "continuous_variables = ['age', 'height', 'weight', 'lab_result_1', 'lab_result_2', 'lab_result_3', 'length_of_stay']"
   ]
  },
  {
   "cell_type": "code",
   "execution_count": 37,
   "metadata": {},
   "outputs": [
    {
     "data": {
      "image/png": "[encoded data removed]",
      "text/plain": [
       "<matplotlib.figure.Figure at 0x290deecc4e0>"
      ]
     },
     "metadata": {},
     "output_type": "display_data"
    }
   ],
   "source": [
    "df[continuous_variables+ ['total_amount']].hist(figsize=(16,10), bins=20, xlabelsize=8, ylabelsize=8, alpha=0.8);"
   ]
  },
  {
   "cell_type": "markdown",
   "metadata": {},
   "source": [
    "It seems that the most variables are centered and have Gaussian-shaped distributions. However, the distribution of `total_amount` seems to be right-skewed, and `age` with `height` seems to follow bimodal distributions."
   ]
  },
  {
   "cell_type": "markdown",
   "metadata": {},
   "source": [
    "#### Binary Variables"
   ]
  },
  {
   "cell_type": "markdown",
   "metadata": {},
   "source": [
    "As for the binary variables, bar plots would be more appropriate."
   ]
  },
  {
   "cell_type": "code",
   "execution_count": 38,
   "metadata": {
    "collapsed": true
   },
   "outputs": [],
   "source": [
    "binary_variables = list(df)[2:20]"
   ]
  },
  {
   "cell_type": "code",
   "execution_count": 39,
   "metadata": {},
   "outputs": [
    {
     "data": {
      "image/png": "[encoded data removed]",
      "text/plain": [
       "<matplotlib.figure.Figure at 0x290de1d69e8>"
      ]
     },
     "metadata": {},
     "output_type": "display_data"
    }
   ],
   "source": [
    "fig, ax = plt.subplots(3,1,figsize = (18, 15))\n",
    "sns.countplot(x=\"variable\", hue=\"value\", data=pd.melt(df[binary_variables[:7]]), ax=ax[0], alpha=0.7); # medical_history\n",
    "sns.countplot(x=\"variable\", hue=\"value\", data=pd.melt(df[binary_variables[7:13]]), ax=ax[1], alpha=0.7); # preop_medication\n",
    "sns.countplot(x=\"variable\", hue=\"value\", data=pd.melt(df[binary_variables[13:]]), ax=ax[2], alpha=0.7); # symptom"
   ]
  },
  {
   "cell_type": "markdown",
   "metadata": {},
   "source": [
    "As we can see, although some variables are distributed equally, there are some variables that are not proportionate in size. This is expected, though. We wouldn't expect half of the patients to have a certain medical history, would we? However, just to make sure the variances are not near zero, we will compute them."
   ]
  },
  {
   "cell_type": "code",
   "execution_count": 40,
   "metadata": {},
   "outputs": [
    {
     "data": {
      "text/html": [
       "<div>\n",
       "<style>\n",
       "    .dataframe thead tr:only-child th {\n",
       "        text-align: right;\n",
       "    }\n",
       "\n",
       "    .dataframe thead th {\n",
       "        text-align: left;\n",
       "    }\n",
       "\n",
       "    .dataframe tbody tr th {\n",
       "        vertical-align: top;\n",
       "    }\n",
       "</style>\n",
       "<table border=\"1\" class=\"dataframe\">\n",
       "  <thead>\n",
       "    <tr style=\"text-align: right;\">\n",
       "      <th></th>\n",
       "      <th>mean</th>\n",
       "      <th>var</th>\n",
       "    </tr>\n",
       "  </thead>\n",
       "  <tbody>\n",
       "    <tr>\n",
       "      <th>medical_history_1</th>\n",
       "      <td>0.169118</td>\n",
       "      <td>0.140558</td>\n",
       "    </tr>\n",
       "    <tr>\n",
       "      <th>medical_history_2</th>\n",
       "      <td>0.311336</td>\n",
       "      <td>0.214473</td>\n",
       "    </tr>\n",
       "    <tr>\n",
       "      <th>medical_history_3</th>\n",
       "      <td>0.136176</td>\n",
       "      <td>0.117667</td>\n",
       "    </tr>\n",
       "    <tr>\n",
       "      <th>medical_history_4</th>\n",
       "      <td>0.052059</td>\n",
       "      <td>0.049363</td>\n",
       "    </tr>\n",
       "    <tr>\n",
       "      <th>medical_history_5</th>\n",
       "      <td>0.063953</td>\n",
       "      <td>0.059883</td>\n",
       "    </tr>\n",
       "    <tr>\n",
       "      <th>medical_history_6</th>\n",
       "      <td>0.254706</td>\n",
       "      <td>0.189887</td>\n",
       "    </tr>\n",
       "    <tr>\n",
       "      <th>medical_history_7</th>\n",
       "      <td>0.254412</td>\n",
       "      <td>0.189742</td>\n",
       "    </tr>\n",
       "    <tr>\n",
       "      <th>preop_medication_1</th>\n",
       "      <td>0.503824</td>\n",
       "      <td>0.250059</td>\n",
       "    </tr>\n",
       "    <tr>\n",
       "      <th>preop_medication_2</th>\n",
       "      <td>0.591176</td>\n",
       "      <td>0.241758</td>\n",
       "    </tr>\n",
       "    <tr>\n",
       "      <th>preop_medication_3</th>\n",
       "      <td>0.820882</td>\n",
       "      <td>0.147078</td>\n",
       "    </tr>\n",
       "    <tr>\n",
       "      <th>preop_medication_4</th>\n",
       "      <td>0.523235</td>\n",
       "      <td>0.249534</td>\n",
       "    </tr>\n",
       "    <tr>\n",
       "      <th>preop_medication_5</th>\n",
       "      <td>0.819706</td>\n",
       "      <td>0.147832</td>\n",
       "    </tr>\n",
       "    <tr>\n",
       "      <th>preop_medication_6</th>\n",
       "      <td>0.744118</td>\n",
       "      <td>0.190463</td>\n",
       "    </tr>\n",
       "    <tr>\n",
       "      <th>symptom_1</th>\n",
       "      <td>0.619706</td>\n",
       "      <td>0.235740</td>\n",
       "    </tr>\n",
       "    <tr>\n",
       "      <th>symptom_2</th>\n",
       "      <td>0.662353</td>\n",
       "      <td>0.223707</td>\n",
       "    </tr>\n",
       "    <tr>\n",
       "      <th>symptom_3</th>\n",
       "      <td>0.544706</td>\n",
       "      <td>0.248074</td>\n",
       "    </tr>\n",
       "    <tr>\n",
       "      <th>symptom_4</th>\n",
       "      <td>0.726471</td>\n",
       "      <td>0.198770</td>\n",
       "    </tr>\n",
       "    <tr>\n",
       "      <th>symptom_5</th>\n",
       "      <td>0.526765</td>\n",
       "      <td>0.249357</td>\n",
       "    </tr>\n",
       "  </tbody>\n",
       "</table>\n",
       "</div>"
      ],
      "text/plain": [
       "                        mean       var\n",
       "medical_history_1   0.169118  0.140558\n",
       "medical_history_2   0.311336  0.214473\n",
       "medical_history_3   0.136176  0.117667\n",
       "medical_history_4   0.052059  0.049363\n",
       "medical_history_5   0.063953  0.059883\n",
       "medical_history_6   0.254706  0.189887\n",
       "medical_history_7   0.254412  0.189742\n",
       "preop_medication_1  0.503824  0.250059\n",
       "preop_medication_2  0.591176  0.241758\n",
       "preop_medication_3  0.820882  0.147078\n",
       "preop_medication_4  0.523235  0.249534\n",
       "preop_medication_5  0.819706  0.147832\n",
       "preop_medication_6  0.744118  0.190463\n",
       "symptom_1           0.619706  0.235740\n",
       "symptom_2           0.662353  0.223707\n",
       "symptom_3           0.544706  0.248074\n",
       "symptom_4           0.726471  0.198770\n",
       "symptom_5           0.526765  0.249357"
      ]
     },
     "execution_count": 40,
     "metadata": {},
     "output_type": "execute_result"
    }
   ],
   "source": [
    "df[binary_variables].agg([np.mean, np.var]).T"
   ]
  },
  {
   "cell_type": "markdown",
   "metadata": {},
   "source": [
    "Fortunately, even the most unbalanced variable (`medical_history_4`) still has distribution ratio of 1:20. This doesn't necessarily mean problem, but we will just take a note of this."
   ]
  },
  {
   "cell_type": "markdown",
   "metadata": {},
   "source": [
    "### Categorical Variables"
   ]
  },
  {
   "cell_type": "markdown",
   "metadata": {},
   "source": [
    "As for our categorical variables, we use box plots and bar plots to visualize the distribution of `total_amount` across the categories."
   ]
  },
  {
   "cell_type": "code",
   "execution_count": 41,
   "metadata": {
    "collapsed": true
   },
   "outputs": [],
   "source": [
    "categorical_variables = ['gender', 'race', 'resident_status']"
   ]
  },
  {
   "cell_type": "code",
   "execution_count": 42,
   "metadata": {},
   "outputs": [
    {
     "data": {
      "image/png": "[encoded data removed]",
      "text/plain": [
       "<matplotlib.figure.Figure at 0x290de0f1fd0>"
      ]
     },
     "metadata": {},
     "output_type": "display_data"
    }
   ],
   "source": [
    "fig, ax = plt.subplots(2, 3, figsize = (18, 12))\n",
    "boxplot_order = [['Female', 'Male'],\n",
    "                 ['Chinese', 'Indian', 'Malay', 'Others'],\n",
    "                 ['Singaporean', 'PR', 'Foreigner']]\n",
    "\n",
    "for i, ax in enumerate(fig.axes):\n",
    "    if i < 3:\n",
    "        ax = sns.boxplot(x=categorical_variables[i], y='total_amount', data=df, ax=ax, order=boxplot_order[i])\n",
    "        plt.setp(ax.artists, alpha=.5, linewidth=2, edgecolor=\"k\")\n",
    "    else:\n",
    "        ax = sns.countplot(x=categorical_variables[i-3], alpha=0.7, data=df, ax=ax, order=boxplot_order[i-3])"
   ]
  },
  {
   "cell_type": "markdown",
   "metadata": {},
   "source": [
    "From the `gender` variable, it seems that there is no visible discrepancies between the amount charged to females and males. It could be the case that this particular condition affects both genders equally. It could also be a sign that patients are not charged differently according to their gender."
   ]
  },
  {
   "cell_type": "markdown",
   "metadata": {},
   "source": [
    "As for `race`, it seems that Indian and Malay patients spent more than the others. It could be caused by the medical histories and symptoms that are more prominent in a certain race. Lastly, the `resident_status` of the patient. Obviously, this is a cost-driving factor that affects the cost through the pricing policy according the resident status. Singaporean are charged less than PRs and foreigners."
   ]
  },
  {
   "cell_type": "markdown",
   "metadata": {},
   "source": [
    "Lastly, the `resident_status` of the patient. Obviously, this is a cost-driving factor that affects the cost through the pricing policy according the resident status. Singaporean are charged less than PRs and foreigners."
   ]
  },
  {
   "cell_type": "markdown",
   "metadata": {},
   "source": [
    "An important thing to note is that most of the patients are Singaporean, with the majority of it are Chinese."
   ]
  },
  {
   "cell_type": "markdown",
   "metadata": {},
   "source": [
    "To end our exploratory data analysis, we show the average values of the binary variables across different categorical variables. Just skimming through the table, it seems there are only a few variables that differ across certain categories. For example, the percentage of patient with `medical_history_3` is higher in PR and Singaporean than that in Foreigner. Of course, numerical tests can be performed to verify this."
   ]
  },
  {
   "cell_type": "code",
   "execution_count": 43,
   "metadata": {
    "scrolled": true
   },
   "outputs": [
    {
     "data": {
      "text/html": [
       "<div>\n",
       "<style>\n",
       "    .dataframe thead tr:only-child th {\n",
       "        text-align: right;\n",
       "    }\n",
       "\n",
       "    .dataframe thead th {\n",
       "        text-align: left;\n",
       "    }\n",
       "\n",
       "    .dataframe tbody tr th {\n",
       "        vertical-align: top;\n",
       "    }\n",
       "</style>\n",
       "<table border=\"1\" class=\"dataframe\">\n",
       "  <thead>\n",
       "    <tr>\n",
       "      <th></th>\n",
       "      <th colspan=\"2\" halign=\"left\">Gender</th>\n",
       "      <th colspan=\"4\" halign=\"left\">Race</th>\n",
       "      <th colspan=\"3\" halign=\"left\">Resident Status</th>\n",
       "    </tr>\n",
       "    <tr>\n",
       "      <th></th>\n",
       "      <th>Female</th>\n",
       "      <th>Male</th>\n",
       "      <th>Chinese</th>\n",
       "      <th>Indian</th>\n",
       "      <th>Malay</th>\n",
       "      <th>Others</th>\n",
       "      <th>Foreigner</th>\n",
       "      <th>PR</th>\n",
       "      <th>Singaporean</th>\n",
       "    </tr>\n",
       "  </thead>\n",
       "  <tbody>\n",
       "    <tr>\n",
       "      <th>medical_history_1</th>\n",
       "      <td>0.175088</td>\n",
       "      <td>0.163133</td>\n",
       "      <td>0.167590</td>\n",
       "      <td>0.156977</td>\n",
       "      <td>0.172560</td>\n",
       "      <td>0.196721</td>\n",
       "      <td>0.180124</td>\n",
       "      <td>0.159223</td>\n",
       "      <td>0.170338</td>\n",
       "    </tr>\n",
       "    <tr>\n",
       "      <th>medical_history_2</th>\n",
       "      <td>0.316256</td>\n",
       "      <td>0.306431</td>\n",
       "      <td>0.304391</td>\n",
       "      <td>0.336449</td>\n",
       "      <td>0.316514</td>\n",
       "      <td>0.327273</td>\n",
       "      <td>0.315789</td>\n",
       "      <td>0.290795</td>\n",
       "      <td>0.314939</td>\n",
       "    </tr>\n",
       "    <tr>\n",
       "      <th>medical_history_3</th>\n",
       "      <td>0.133960</td>\n",
       "      <td>0.138398</td>\n",
       "      <td>0.131117</td>\n",
       "      <td>0.139535</td>\n",
       "      <td>0.155587</td>\n",
       "      <td>0.114754</td>\n",
       "      <td>0.074534</td>\n",
       "      <td>0.139806</td>\n",
       "      <td>0.139134</td>\n",
       "    </tr>\n",
       "    <tr>\n",
       "      <th>medical_history_4</th>\n",
       "      <td>0.056404</td>\n",
       "      <td>0.047703</td>\n",
       "      <td>0.053093</td>\n",
       "      <td>0.066860</td>\n",
       "      <td>0.048091</td>\n",
       "      <td>0.027322</td>\n",
       "      <td>0.037267</td>\n",
       "      <td>0.046602</td>\n",
       "      <td>0.053965</td>\n",
       "    </tr>\n",
       "    <tr>\n",
       "      <th>medical_history_5</th>\n",
       "      <td>0.071705</td>\n",
       "      <td>0.056202</td>\n",
       "      <td>0.066531</td>\n",
       "      <td>0.053797</td>\n",
       "      <td>0.066770</td>\n",
       "      <td>0.041916</td>\n",
       "      <td>0.075342</td>\n",
       "      <td>0.078224</td>\n",
       "      <td>0.060557</td>\n",
       "    </tr>\n",
       "    <tr>\n",
       "      <th>medical_history_6</th>\n",
       "      <td>0.235605</td>\n",
       "      <td>0.273852</td>\n",
       "      <td>0.256233</td>\n",
       "      <td>0.258721</td>\n",
       "      <td>0.253182</td>\n",
       "      <td>0.234973</td>\n",
       "      <td>0.229814</td>\n",
       "      <td>0.279612</td>\n",
       "      <td>0.251468</td>\n",
       "    </tr>\n",
       "    <tr>\n",
       "      <th>medical_history_7</th>\n",
       "      <td>0.271445</td>\n",
       "      <td>0.237338</td>\n",
       "      <td>0.258079</td>\n",
       "      <td>0.267442</td>\n",
       "      <td>0.234795</td>\n",
       "      <td>0.262295</td>\n",
       "      <td>0.298137</td>\n",
       "      <td>0.285437</td>\n",
       "      <td>0.245962</td>\n",
       "    </tr>\n",
       "    <tr>\n",
       "      <th>preop_medication_1</th>\n",
       "      <td>0.507638</td>\n",
       "      <td>0.500000</td>\n",
       "      <td>0.508772</td>\n",
       "      <td>0.508721</td>\n",
       "      <td>0.486563</td>\n",
       "      <td>0.502732</td>\n",
       "      <td>0.447205</td>\n",
       "      <td>0.493204</td>\n",
       "      <td>0.509178</td>\n",
       "    </tr>\n",
       "    <tr>\n",
       "      <th>preop_medication_2</th>\n",
       "      <td>0.595770</td>\n",
       "      <td>0.586572</td>\n",
       "      <td>0.578486</td>\n",
       "      <td>0.630814</td>\n",
       "      <td>0.605375</td>\n",
       "      <td>0.612022</td>\n",
       "      <td>0.534161</td>\n",
       "      <td>0.578641</td>\n",
       "      <td>0.596916</td>\n",
       "    </tr>\n",
       "    <tr>\n",
       "      <th>preop_medication_3</th>\n",
       "      <td>0.815511</td>\n",
       "      <td>0.826266</td>\n",
       "      <td>0.822715</td>\n",
       "      <td>0.840116</td>\n",
       "      <td>0.817539</td>\n",
       "      <td>0.775956</td>\n",
       "      <td>0.869565</td>\n",
       "      <td>0.800000</td>\n",
       "      <td>0.821953</td>\n",
       "    </tr>\n",
       "    <tr>\n",
       "      <th>preop_medication_4</th>\n",
       "      <td>0.541716</td>\n",
       "      <td>0.504711</td>\n",
       "      <td>0.516159</td>\n",
       "      <td>0.529070</td>\n",
       "      <td>0.548798</td>\n",
       "      <td>0.497268</td>\n",
       "      <td>0.534161</td>\n",
       "      <td>0.549515</td>\n",
       "      <td>0.517621</td>\n",
       "    </tr>\n",
       "    <tr>\n",
       "      <th>preop_medication_5</th>\n",
       "      <td>0.830787</td>\n",
       "      <td>0.808598</td>\n",
       "      <td>0.823638</td>\n",
       "      <td>0.811047</td>\n",
       "      <td>0.814710</td>\n",
       "      <td>0.808743</td>\n",
       "      <td>0.795031</td>\n",
       "      <td>0.834951</td>\n",
       "      <td>0.818282</td>\n",
       "    </tr>\n",
       "    <tr>\n",
       "      <th>preop_medication_6</th>\n",
       "      <td>0.739718</td>\n",
       "      <td>0.748528</td>\n",
       "      <td>0.741921</td>\n",
       "      <td>0.741279</td>\n",
       "      <td>0.752475</td>\n",
       "      <td>0.743169</td>\n",
       "      <td>0.788820</td>\n",
       "      <td>0.724272</td>\n",
       "      <td>0.745228</td>\n",
       "    </tr>\n",
       "    <tr>\n",
       "      <th>symptom_1</th>\n",
       "      <td>0.615746</td>\n",
       "      <td>0.623675</td>\n",
       "      <td>0.620499</td>\n",
       "      <td>0.598837</td>\n",
       "      <td>0.616690</td>\n",
       "      <td>0.661202</td>\n",
       "      <td>0.577640</td>\n",
       "      <td>0.609709</td>\n",
       "      <td>0.624082</td>\n",
       "    </tr>\n",
       "    <tr>\n",
       "      <th>symptom_2</th>\n",
       "      <td>0.670388</td>\n",
       "      <td>0.654299</td>\n",
       "      <td>0.656510</td>\n",
       "      <td>0.697674</td>\n",
       "      <td>0.660537</td>\n",
       "      <td>0.672131</td>\n",
       "      <td>0.695652</td>\n",
       "      <td>0.664078</td>\n",
       "      <td>0.660059</td>\n",
       "    </tr>\n",
       "    <tr>\n",
       "      <th>symptom_3</th>\n",
       "      <td>0.528790</td>\n",
       "      <td>0.560660</td>\n",
       "      <td>0.544321</td>\n",
       "      <td>0.584302</td>\n",
       "      <td>0.541726</td>\n",
       "      <td>0.486339</td>\n",
       "      <td>0.490683</td>\n",
       "      <td>0.557282</td>\n",
       "      <td>0.545521</td>\n",
       "    </tr>\n",
       "    <tr>\n",
       "      <th>symptom_4</th>\n",
       "      <td>0.716804</td>\n",
       "      <td>0.736160</td>\n",
       "      <td>0.725762</td>\n",
       "      <td>0.706395</td>\n",
       "      <td>0.735502</td>\n",
       "      <td>0.737705</td>\n",
       "      <td>0.708075</td>\n",
       "      <td>0.718447</td>\n",
       "      <td>0.729075</td>\n",
       "    </tr>\n",
       "    <tr>\n",
       "      <th>symptom_5</th>\n",
       "      <td>0.519976</td>\n",
       "      <td>0.533569</td>\n",
       "      <td>0.520776</td>\n",
       "      <td>0.587209</td>\n",
       "      <td>0.519095</td>\n",
       "      <td>0.513661</td>\n",
       "      <td>0.546584</td>\n",
       "      <td>0.526214</td>\n",
       "      <td>0.525698</td>\n",
       "    </tr>\n",
       "  </tbody>\n",
       "</table>\n",
       "</div>"
      ],
      "text/plain": [
       "                      Gender                Race                      \\\n",
       "                      Female      Male   Chinese    Indian     Malay   \n",
       "medical_history_1   0.175088  0.163133  0.167590  0.156977  0.172560   \n",
       "medical_history_2   0.316256  0.306431  0.304391  0.336449  0.316514   \n",
       "medical_history_3   0.133960  0.138398  0.131117  0.139535  0.155587   \n",
       "medical_history_4   0.056404  0.047703  0.053093  0.066860  0.048091   \n",
       "medical_history_5   0.071705  0.056202  0.066531  0.053797  0.066770   \n",
       "medical_history_6   0.235605  0.273852  0.256233  0.258721  0.253182   \n",
       "medical_history_7   0.271445  0.237338  0.258079  0.267442  0.234795   \n",
       "preop_medication_1  0.507638  0.500000  0.508772  0.508721  0.486563   \n",
       "preop_medication_2  0.595770  0.586572  0.578486  0.630814  0.605375   \n",
       "preop_medication_3  0.815511  0.826266  0.822715  0.840116  0.817539   \n",
       "preop_medication_4  0.541716  0.504711  0.516159  0.529070  0.548798   \n",
       "preop_medication_5  0.830787  0.808598  0.823638  0.811047  0.814710   \n",
       "preop_medication_6  0.739718  0.748528  0.741921  0.741279  0.752475   \n",
       "symptom_1           0.615746  0.623675  0.620499  0.598837  0.616690   \n",
       "symptom_2           0.670388  0.654299  0.656510  0.697674  0.660537   \n",
       "symptom_3           0.528790  0.560660  0.544321  0.584302  0.541726   \n",
       "symptom_4           0.716804  0.736160  0.725762  0.706395  0.735502   \n",
       "symptom_5           0.519976  0.533569  0.520776  0.587209  0.519095   \n",
       "\n",
       "                             Resident Status                        \n",
       "                      Others       Foreigner        PR Singaporean  \n",
       "medical_history_1   0.196721        0.180124  0.159223    0.170338  \n",
       "medical_history_2   0.327273        0.315789  0.290795    0.314939  \n",
       "medical_history_3   0.114754        0.074534  0.139806    0.139134  \n",
       "medical_history_4   0.027322        0.037267  0.046602    0.053965  \n",
       "medical_history_5   0.041916        0.075342  0.078224    0.060557  \n",
       "medical_history_6   0.234973        0.229814  0.279612    0.251468  \n",
       "medical_history_7   0.262295        0.298137  0.285437    0.245962  \n",
       "preop_medication_1  0.502732        0.447205  0.493204    0.509178  \n",
       "preop_medication_2  0.612022        0.534161  0.578641    0.596916  \n",
       "preop_medication_3  0.775956        0.869565  0.800000    0.821953  \n",
       "preop_medication_4  0.497268        0.534161  0.549515    0.517621  \n",
       "preop_medication_5  0.808743        0.795031  0.834951    0.818282  \n",
       "preop_medication_6  0.743169        0.788820  0.724272    0.745228  \n",
       "symptom_1           0.661202        0.577640  0.609709    0.624082  \n",
       "symptom_2           0.672131        0.695652  0.664078    0.660059  \n",
       "symptom_3           0.486339        0.490683  0.557282    0.545521  \n",
       "symptom_4           0.737705        0.708075  0.718447    0.729075  \n",
       "symptom_5           0.513661        0.546584  0.526214    0.525698  "
      ]
     },
     "execution_count": 43,
     "metadata": {},
     "output_type": "execute_result"
    }
   ],
   "source": [
    "pd.concat({'Gender': pd.DataFrame.pivot_table(df, values = binary_variables, columns = 'gender'),\n",
    "           'Race': pd.DataFrame.pivot_table(df, values = binary_variables, columns = 'race'),\n",
    "           'Resident Status': pd.DataFrame.pivot_table(df, values = binary_variables, columns = 'resident_status')},\n",
    "          axis=1)"
   ]
  },
  {
   "cell_type": "markdown",
   "metadata": {},
   "source": [
    "Just looking at it, we can see that some binary variables are more pronounced in a certain gender, race, or resident status (this could be caused by difference in lifestyle, assuming the foreigners and PRs reside in Singapore)."
   ]
  },
  {
   "cell_type": "markdown",
   "metadata": {},
   "source": [
    "## Machine Learning"
   ]
  },
  {
   "cell_type": "markdown",
   "metadata": {},
   "source": [
    "In this section, we will try some machine learning methods to predict `total_amount`. We will use the mean squared error (MSE) to measure the performance of our models."
   ]
  },
  {
   "cell_type": "markdown",
   "metadata": {},
   "source": [
    "First of all, we create the design matrix. In order to do so, we transform the categorical variables into dummy variables."
   ]
  },
  {
   "cell_type": "code",
   "execution_count": 44,
   "metadata": {
    "collapsed": true
   },
   "outputs": [],
   "source": [
    "X = pd.concat([df[continuous_variables+binary_variables],\n",
    "           pd.get_dummies(df['gender']).drop('Female', 1), \n",
    "           pd.get_dummies(df['race']).drop('Others', 1), \n",
    "           pd.get_dummies(df['resident_status']).drop('Foreigner', 1) ], axis=1)\n",
    "\n",
    "y = df['total_amount']"
   ]
  },
  {
   "cell_type": "markdown",
   "metadata": {},
   "source": [
    "Then, we scale our data to have mean `0` and variance `1`. As for the binary variables, we don't standardise them to ease the interpretation."
   ]
  },
  {
   "cell_type": "code",
   "execution_count": 45,
   "metadata": {
    "collapsed": true
   },
   "outputs": [],
   "source": [
    "X[continuous_variables] = (X[continuous_variables] - X[continuous_variables].mean()) / X[continuous_variables].std()"
   ]
  },
  {
   "cell_type": "markdown",
   "metadata": {},
   "source": [
    "To deal with missing data in `medical_history_2` and `medical_history_5`, since we don't know the nature of those missing values, we will fill them with `0`. We expect that the missing values mean so. Besides, the majority of those variables are `0`."
   ]
  },
  {
   "cell_type": "code",
   "execution_count": 46,
   "metadata": {
    "collapsed": true
   },
   "outputs": [],
   "source": [
    "X.fillna(0, inplace=True)"
   ]
  },
  {
   "cell_type": "markdown",
   "metadata": {},
   "source": [
    "Lastly, we split our data into training data and test data. We will do a 2:1 split and store them into different objects."
   ]
  },
  {
   "cell_type": "code",
   "execution_count": 47,
   "metadata": {
    "collapsed": true
   },
   "outputs": [],
   "source": [
    "from sklearn.model_selection import train_test_split\n",
    "X_train, X_test, y_train, y_test = train_test_split(X, y, test_size=0.33, random_state=42)"
   ]
  },
  {
   "cell_type": "markdown",
   "metadata": {},
   "source": [
    "### Linear Regression"
   ]
  },
  {
   "cell_type": "markdown",
   "metadata": {},
   "source": [
    "We start with a simple linear regression, or the ordinary least square (OLS). Since this model doesn't need any parameter tuning, we will make this our baseline method."
   ]
  },
  {
   "cell_type": "code",
   "execution_count": 48,
   "metadata": {},
   "outputs": [
    {
     "data": {
      "text/plain": [
       "LinearRegression(copy_X=True, fit_intercept=True, n_jobs=1, normalize=False)"
      ]
     },
     "execution_count": 48,
     "metadata": {},
     "output_type": "execute_result"
    }
   ],
   "source": [
    "from sklearn import linear_model\n",
    "ols = linear_model.LinearRegression()\n",
    "ols.fit(X_train, y_train)"
   ]
  },
  {
   "cell_type": "markdown",
   "metadata": {},
   "source": [
    "We then take a look at the fitted coefficients."
   ]
  },
  {
   "cell_type": "code",
   "execution_count": 49,
   "metadata": {
    "scrolled": false
   },
   "outputs": [
    {
     "data": {
      "text/plain": [
       "symptom_5             10492.536881\n",
       "Malay                  8208.713402\n",
       "medical_history_1      6166.795082\n",
       "symptom_3              3983.479633\n",
       "symptom_2              3670.804277\n",
       "medical_history_6      3497.629477\n",
       "age                    3129.440722\n",
       "symptom_4              3087.384790\n",
       "symptom_1              2756.801696\n",
       "medical_history_5      1624.066874\n",
       "weight                 1590.097895\n",
       "Indian                 1589.934194\n",
       "medical_history_7      1028.745463\n",
       "preop_medication_1      574.077724\n",
       "medical_history_4       434.190073\n",
       "medical_history_2       430.687939\n",
       "preop_medication_2      360.444001\n",
       "preop_medication_5      327.449013\n",
       "medical_history_3       254.078566\n",
       "preop_medication_3      251.787988\n",
       "preop_medication_4       27.726127\n",
       "lab_result_2             21.208274\n",
       "preop_medication_6       12.013876\n",
       "length_of_stay           -1.537716\n",
       "Male                     -8.331251\n",
       "lab_result_3            -48.636477\n",
       "lab_result_1            -52.178155\n",
       "height                 -278.949102\n",
       "Chinese               -2364.513823\n",
       "PR                   -17259.523883\n",
       "Singaporean          -21253.383500\n",
       "dtype: float64"
      ]
     },
     "execution_count": 49,
     "metadata": {},
     "output_type": "execute_result"
    }
   ],
   "source": [
    "pd.Series(ols.coef_, index = list(X)).sort_values(ascending=False)"
   ]
  },
  {
   "cell_type": "markdown",
   "metadata": {},
   "source": [
    "From the sorted coefficients above, we can infer that if a patient shows `symptom_5`, the patient is expected to be charged around 10000 SGD more. Similarly, if a patient has `medical_history_1`, the patient is expected to be charged around 6000 SGD more. Generally, the symptom variables drive the cost the most, with some medical history variables also affecting the cost in the thousands. On the contrary, some of the medical history variables and all pre-op medications and lab results variables only affect the cost in the hundreds.\n",
    "\n",
    "Besides the clinical data variables, we can see that some physical variables such as `age` and `weight` have their place in driving `total_amount`. \n",
    "\n",
    "An interesting observation comes from the dummy variables from `resident_status`. From the coefficients, we can see that foreigners pay a premium of more than 20000 SGD, twice the impact of `symptom_5`. \n",
    "\n",
    "Besides `resident_status`, `race` also plays a significant part in driving the cost. Malays are expected to have higher costs, while Chinese are expected to have lower costs. Perhaps further analysis can be done to see whether there's a difference between the medical conditions of Malay patients and those of Chinese patients. To give a quick illustration, here are the coefficients fitted only from Chinese Singaporean patients."
   ]
  },
  {
   "cell_type": "code",
   "execution_count": 50,
   "metadata": {},
   "outputs": [
    {
     "data": {
      "text/plain": [
       "23587.448824204963"
      ]
     },
     "execution_count": 50,
     "metadata": {},
     "output_type": "execute_result"
    }
   ],
   "source": [
    "ols.intercept_"
   ]
  },
  {
   "cell_type": "code",
   "execution_count": 51,
   "metadata": {},
   "outputs": [
    {
     "data": {
      "text/plain": [
       "symptom_5             8356.696313\n",
       "medical_history_1     4826.488952\n",
       "symptom_3             3197.598497\n",
       "symptom_2             2944.616646\n",
       "medical_history_6     2845.792355\n",
       "age                   2572.255885\n",
       "symptom_4             2474.955079\n",
       "symptom_1             2082.526971\n",
       "weight                1271.063769\n",
       "medical_history_5      848.670941\n",
       "medical_history_7      761.211624\n",
       "preop_medication_1     467.793345\n",
       "medical_history_3      288.406603\n",
       "preop_medication_3     284.495389\n",
       "preop_medication_5     258.610569\n",
       "medical_history_2      255.205626\n",
       "preop_medication_6     199.942166\n",
       "preop_medication_2     178.460944\n",
       "medical_history_4      168.989977\n",
       "Male                    29.785667\n",
       "lab_result_1            28.099125\n",
       "PR                       0.000000\n",
       "Chinese                  0.000000\n",
       "Indian                   0.000000\n",
       "Malay                    0.000000\n",
       "Singaporean              0.000000\n",
       "length_of_stay          -2.014334\n",
       "lab_result_3           -12.773178\n",
       "lab_result_2           -13.761169\n",
       "preop_medication_4     -67.042904\n",
       "height                -236.964258\n",
       "dtype: float64"
      ]
     },
     "execution_count": 51,
     "metadata": {},
     "output_type": "execute_result"
    }
   ],
   "source": [
    "chi_sg = (X_train['Singaporean']==1) & (X_train['Chinese']==1)\n",
    "pd.Series(linear_model.LinearRegression().fit(X_train[chi_sg],\n",
    "                                              y_train[chi_sg]).coef_, index = list(X)).sort_values(ascending=False)"
   ]
  },
  {
   "cell_type": "markdown",
   "metadata": {},
   "source": [
    "After removing patients that are not Chinese Singaporean, we still have a similar result from the previous one. Of course, this model should work better on Chinese Singaporean patient, since we have removed irrelevant noises from our data. The same approach, however, may not be applicable on other race or resident status. For example, there are only 43 Indian PRs on our data. For this reason, we will stick to the first model."
   ]
  },
  {
   "cell_type": "code",
   "execution_count": 52,
   "metadata": {},
   "outputs": [
    {
     "data": {
      "text/plain": [
       "43"
      ]
     },
     "execution_count": 52,
     "metadata": {},
     "output_type": "execute_result"
    }
   ],
   "source": [
    "sum((X['PR']==1) & (X['Indian']==1))"
   ]
  },
  {
   "cell_type": "markdown",
   "metadata": {},
   "source": [
    "Now it's time to test our model. Here we predict `total_amount` of the test data with our model. Then, we compute the MSE."
   ]
  },
  {
   "cell_type": "code",
   "execution_count": 53,
   "metadata": {
    "scrolled": true
   },
   "outputs": [
    {
     "data": {
      "text/plain": [
       "2473.7930898002946"
      ]
     },
     "execution_count": 53,
     "metadata": {},
     "output_type": "execute_result"
    }
   ],
   "source": [
    "((ols.predict(X_test) - y_test) ** 2).mean() ** 0.5"
   ]
  },
  {
   "cell_type": "markdown",
   "metadata": {},
   "source": [
    "Not too bad for a baseline model. To give a better illustration on the residual distribution, we will plot the residuals against the predicted values."
   ]
  },
  {
   "cell_type": "code",
   "execution_count": 54,
   "metadata": {},
   "outputs": [
    {
     "data": {
      "image/png": "[encoded data removed]",
      "text/plain": [
       "<matplotlib.figure.Figure at 0x290deeabeb8>"
      ]
     },
     "metadata": {},
     "output_type": "display_data"
    }
   ],
   "source": [
    "sns.residplot(x=ols.predict(X_test),\n",
    "              y=ols.predict(X_test) - y_test,\n",
    "              lowess=True,\n",
    "              scatter_kws={'alpha': 0.5}, \n",
    "              line_kws={'color': 'red', 'lw': 1, 'alpha': 0.8});"
   ]
  },
  {
   "cell_type": "markdown",
   "metadata": {},
   "source": [
    "From the plot above, we see that the residuals are close to `0` around 25000, with a decreasing tendency as it deviates from that point. The residual plot also resembles a quadratic function. Perhaps we can try polynomial regression?"
   ]
  },
  {
   "cell_type": "markdown",
   "metadata": {},
   "source": [
    "### Polynomial Regression"
   ]
  },
  {
   "cell_type": "code",
   "execution_count": 55,
   "metadata": {},
   "outputs": [
    {
     "data": {
      "image/png": "[encoded data removed]",
      "text/plain": [
       "<matplotlib.figure.Figure at 0x290df3daac8>"
      ]
     },
     "metadata": {},
     "output_type": "display_data"
    }
   ],
   "source": [
    "from sklearn.preprocessing import PolynomialFeatures\n",
    "X_train_quad = PolynomialFeatures(degree=2).fit_transform(X_train)\n",
    "X_test_quad = PolynomialFeatures(degree=2).fit_transform(X_test)\n",
    "\n",
    "poly = linear_model.LinearRegression(fit_intercept=False).fit(X_train_quad, y_train)\n",
    "sns.residplot(x=poly.predict(X_test_quad),\n",
    "              y=poly.predict(X_test_quad) - y_test,\n",
    "              lowess=True,\n",
    "              scatter_kws={'alpha': 0.5}, \n",
    "              line_kws={'color': 'red', 'lw': 1, 'alpha': 0.8});"
   ]
  },
  {
   "cell_type": "code",
   "execution_count": 56,
   "metadata": {},
   "outputs": [
    {
     "data": {
      "text/plain": [
       "520.6333942565653"
      ]
     },
     "execution_count": 56,
     "metadata": {},
     "output_type": "execute_result"
    }
   ],
   "source": [
    "((poly.predict(X_test_quad) - y_test) ** 2).mean() ** 0.5"
   ]
  },
  {
   "cell_type": "markdown",
   "metadata": {},
   "source": [
    "It seems that adding polynomial features increases the performance dramatically. We have reduced the MSE to a mere 500, a very acceptable error rate, considering the magnitude of `total_amount`. However, by doing so we have increased the number of variables into more than 500!\n",
    "\n",
    "Here we will see the coefficients."
   ]
  },
  {
   "cell_type": "code",
   "execution_count": 57,
   "metadata": {},
   "outputs": [
    {
     "data": {
      "text/plain": [
       "1                                  5639.613742\n",
       "symptom_5 Malay                    3939.218262\n",
       "age                                3339.199080\n",
       "medical_history_1 Malay            2118.057861\n",
       "weight                             1712.644881\n",
       "Chinese Singaporean                1674.812866\n",
       "symptom_3 Malay                    1469.509766\n",
       "age symptom_5                      1462.501465\n",
       "symptom_2 Malay                    1445.858887\n",
       "medical_history_6 Malay            1351.910400\n",
       "Chinese PR                         1323.869507\n",
       "symptom_4 Malay                    1164.509766\n",
       "age Malay                          1134.828209\n",
       "symptom_1 Malay                    1125.597168\n",
       "medical_history_4 PR               1116.309006\n",
       "medical_history_4 Singaporean      1028.158813\n",
       "preop_medication_6 PR               951.509521\n",
       "preop_medication_6 Singaporean      882.907227\n",
       "age medical_history_1               867.558167\n",
       "symptom_5 Indian                    781.081055\n",
       "weight symptom_5                    751.161133\n",
       "weight Malay                        691.657959\n",
       "medical_history_7 Malay             655.600586\n",
       "age medical_history_6               511.041260\n",
       "age symptom_2                       502.769043\n",
       "age symptom_3                       482.698730\n",
       "age symptom_4                       470.556030\n",
       "medical_history_1 Indian            468.994568\n",
       "medical_history_5 Malay             458.911194\n",
       "age symptom_1                       384.911377\n",
       "                                      ...     \n",
       "medical_history_1 Chinese          -707.257141\n",
       "preop_medication_1 PR              -748.192017\n",
       "preop_medication_1 Singaporean     -880.754395\n",
       "medical_history_7 PR              -1115.694702\n",
       "symptom_5 Chinese                 -1121.798340\n",
       "weight PR                         -1289.413971\n",
       "medical_history_7 Singaporean     -1293.534180\n",
       "medical_history_5 PR              -1370.958923\n",
       "weight Singaporean                -1555.666290\n",
       "medical_history_5 Singaporean     -1651.486816\n",
       "medical_history_6 PR              -2139.431152\n",
       "symptom_4 PR                      -2241.316895\n",
       "age PR                            -2350.048340\n",
       "symptom_2 PR                      -2734.636719\n",
       "medical_history_6 Singaporean     -2757.796249\n",
       "symptom_4 Singaporean             -2796.583984\n",
       "symptom_1 PR                      -2836.521729\n",
       "age Singaporean                   -2897.429077\n",
       "Indian PR                         -3084.605865\n",
       "symptom_2 Singaporean             -3342.952393\n",
       "symptom_1 Singaporean             -3384.825684\n",
       "symptom_3 PR                      -3399.031128\n",
       "Indian Singaporean                -3552.968750\n",
       "symptom_3 Singaporean             -4076.969482\n",
       "medical_history_1 PR              -4649.243469\n",
       "medical_history_1 Singaporean     -5714.288147\n",
       "Malay PR                          -7799.527100\n",
       "symptom_5 PR                      -8168.816528\n",
       "Malay Singaporean                 -9290.119629\n",
       "symptom_5 Singaporean            -10122.353271\n",
       "Length: 480, dtype: float64"
      ]
     },
     "execution_count": 57,
     "metadata": {},
     "output_type": "execute_result"
    }
   ],
   "source": [
    "poly_var = PolynomialFeatures(degree=2).fit(X_train).get_feature_names(X_train.columns)\n",
    "\n",
    "# the where method is to filter out coefficients with \n",
    "# very large magnitude that are not meaningful (they cancel out each other automatically)\n",
    "pd.Series(poly.coef_, index=poly_var).where(lambda x : abs(x) <= 1e6).dropna().sort_values(ascending=False)"
   ]
  },
  {
   "cell_type": "markdown",
   "metadata": {},
   "source": [
    "As expected, interactions between the influential variables from the OLS model dominate both end of the coefficients range. Perhaps we can conclude that this model is very strong in predictive power, but weak in simplicity and interpretability. It's far more easier to explain the first model to general public or stakeholders."
   ]
  },
  {
   "cell_type": "markdown",
   "metadata": {},
   "source": [
    "### LASSO"
   ]
  },
  {
   "cell_type": "markdown",
   "metadata": {},
   "source": [
    "To extend our approach with regression model, we also try regularization method with LASSO. Because LASSO can set a coefficient as `0`, this approach can also double as feature selection.\n",
    "\n",
    "Here we use cross-validation to fine tune the parameter `alpha`."
   ]
  },
  {
   "cell_type": "code",
   "execution_count": 58,
   "metadata": {
    "collapsed": true
   },
   "outputs": [],
   "source": [
    "from sklearn.model_selection import cross_val_score, GridSearchCV"
   ]
  },
  {
   "cell_type": "code",
   "execution_count": 59,
   "metadata": {
    "collapsed": true
   },
   "outputs": [],
   "source": [
    "from sklearn import linear_model\n",
    "lassoCV = linear_model.LassoCV()"
   ]
  },
  {
   "cell_type": "code",
   "execution_count": 60,
   "metadata": {},
   "outputs": [
    {
     "name": "stdout",
     "output_type": "stream",
     "text": [
      "Best alpha: 3.62119261889\n"
     ]
    }
   ],
   "source": [
    "alpha = lassoCV.fit(X_train, y_train).alpha_\n",
    "print('Best alpha:',alpha) "
   ]
  },
  {
   "cell_type": "markdown",
   "metadata": {},
   "source": [
    "It seems that the best `alpha` is small. We may expect the model to still keep many features."
   ]
  },
  {
   "cell_type": "code",
   "execution_count": 61,
   "metadata": {},
   "outputs": [
    {
     "data": {
      "text/plain": [
       "symptom_5             10479.944277\n",
       "Malay                  8108.140868\n",
       "medical_history_1      6137.249266\n",
       "symptom_3              3967.954046\n",
       "symptom_2              3654.051362\n",
       "medical_history_6      3471.640016\n",
       "age                    3127.416869\n",
       "symptom_4              3067.034204\n",
       "symptom_1              2741.664311\n",
       "weight                 1586.034943\n",
       "medical_history_5      1564.930888\n",
       "Indian                 1470.527868\n",
       "medical_history_7      1010.169387\n",
       "preop_medication_1      554.504465\n",
       "medical_history_2       415.760583\n",
       "medical_history_4       356.835859\n",
       "preop_medication_2      341.520193\n",
       "preop_medication_5      306.479294\n",
       "preop_medication_3      230.891445\n",
       "medical_history_3       218.631492\n",
       "lab_result_2             16.092360\n",
       "preop_medication_4       16.005380\n",
       "preop_medication_6        0.000000\n",
       "Male                     -0.000000\n",
       "length_of_stay           -0.000000\n",
       "lab_result_3            -44.900955\n",
       "lab_result_1            -47.852770\n",
       "height                 -277.414161\n",
       "Chinese               -2441.951953\n",
       "PR                   -17076.859503\n",
       "Singaporean          -21091.064102\n",
       "dtype: float64"
      ]
     },
     "execution_count": 61,
     "metadata": {},
     "output_type": "execute_result"
    }
   ],
   "source": [
    "lasso = linear_model.Lasso(alpha=alpha).fit(X_train, y_train)\n",
    "pd.Series(lasso.coef_, index=list(X)).sort_values(ascending=False)"
   ]
  },
  {
   "cell_type": "markdown",
   "metadata": {},
   "source": [
    "As expected, the model only remove 3 variables. Let's take a look at the test error and the residual plot."
   ]
  },
  {
   "cell_type": "code",
   "execution_count": 62,
   "metadata": {
    "scrolled": false
   },
   "outputs": [
    {
     "data": {
      "text/plain": [
       "2466.8972015320073"
      ]
     },
     "execution_count": 62,
     "metadata": {},
     "output_type": "execute_result"
    }
   ],
   "source": [
    "((lasso.predict(X_test) - y_test) ** 2).mean() ** 0.5"
   ]
  },
  {
   "cell_type": "code",
   "execution_count": 63,
   "metadata": {},
   "outputs": [
    {
     "data": {
      "image/png": "[encoded data removed]",
      "text/plain": [
       "<matplotlib.figure.Figure at 0x290ded6a1d0>"
      ]
     },
     "metadata": {},
     "output_type": "display_data"
    }
   ],
   "source": [
    "sns.residplot(x=lasso.predict(X_test),\n",
    "              y=lasso.predict(X_test) - y_test,\n",
    "              lowess=True,\n",
    "              scatter_kws={'alpha': 0.5}, \n",
    "              line_kws={'color': 'red', 'lw': 1, 'alpha': 0.8});"
   ]
  },
  {
   "cell_type": "markdown",
   "metadata": {},
   "source": [
    "Unfortunately, it's only a slight improvement from the OLS. It's expected since the optimal `alpha` itself is small. The residual plot itself looks very similar to that of the OLS. From this result, we can say that the more sparse model from larger `alpha` will not produce better result, thus it's better to keep most of the variables and apply only a bit of regularization penalty."
   ]
  },
  {
   "cell_type": "markdown",
   "metadata": {
    "collapsed": true
   },
   "source": [
    "### Regression Tree"
   ]
  },
  {
   "cell_type": "markdown",
   "metadata": {},
   "source": [
    "Besides least square methods, tree methods can also be used. One strong reason to use tree method is the interpretability. Here we will try the regression tree method on our data and see its performance.\n",
    "\n",
    "For this method, we will use cross-validation to find the optimal depth limit of the tree."
   ]
  },
  {
   "cell_type": "code",
   "execution_count": 64,
   "metadata": {
    "collapsed": true
   },
   "outputs": [],
   "source": [
    "from sklearn import tree\n",
    "\n",
    "param_candidates = [\n",
    "  {'max_depth': [1, 2, 4, 6, 8, 10]},\n",
    "]\n",
    "regtCV = GridSearchCV(estimator=tree.DecisionTreeRegressor(), param_grid = param_candidates).fit(X_train, y_train)"
   ]
  },
  {
   "cell_type": "code",
   "execution_count": 65,
   "metadata": {},
   "outputs": [
    {
     "name": "stdout",
     "output_type": "stream",
     "text": [
      "Best max_depth: 8\n"
     ]
    }
   ],
   "source": [
    "print('Best max_depth:',regtCV.best_estimator_.max_depth) "
   ]
  },
  {
   "cell_type": "markdown",
   "metadata": {},
   "source": [
    "It seems that the data favour a deep tree. In terms of interpretability, this kind of tree may fare badly. Let's see the numerical performance, though."
   ]
  },
  {
   "cell_type": "code",
   "execution_count": 66,
   "metadata": {
    "collapsed": true
   },
   "outputs": [],
   "source": [
    "regt = regtCV.best_estimator_.fit(X_train, y_train)"
   ]
  },
  {
   "cell_type": "code",
   "execution_count": 67,
   "metadata": {},
   "outputs": [
    {
     "data": {
      "text/plain": [
       "4868.978541390168"
      ]
     },
     "execution_count": 67,
     "metadata": {},
     "output_type": "execute_result"
    }
   ],
   "source": [
    "((regt.predict(X_test) - y_test) ** 2).mean() ** 0.5"
   ]
  },
  {
   "cell_type": "code",
   "execution_count": 68,
   "metadata": {
    "scrolled": false
   },
   "outputs": [
    {
     "data": {
      "image/png": "[encoded data removed]",
      "text/plain": [
       "<matplotlib.figure.Figure at 0x290dea82198>"
      ]
     },
     "metadata": {},
     "output_type": "display_data"
    }
   ],
   "source": [
    "sns.residplot(x=regt.predict(X_test),\n",
    "              y=regt.predict(X_test) - y_test,\n",
    "              lowess=True,\n",
    "              scatter_kws={'alpha': 0.5}, \n",
    "              line_kws={'color': 'red', 'lw': 1, 'alpha': 0.8});"
   ]
  },
  {
   "cell_type": "markdown",
   "metadata": {},
   "source": [
    "It seems that the tree model is not suitable for our data. We will just try other methods."
   ]
  },
  {
   "cell_type": "markdown",
   "metadata": {
    "collapsed": true
   },
   "source": [
    "### Support Vector Regression"
   ]
  },
  {
   "cell_type": "markdown",
   "metadata": {},
   "source": [
    "Here we will try the support vector method to fit our data.\n",
    "\n",
    "Similar to the tree method above, we will also use cross-validation to tune the parameters and choose the kernel."
   ]
  },
  {
   "cell_type": "code",
   "execution_count": 69,
   "metadata": {
    "collapsed": true,
    "scrolled": true
   },
   "outputs": [],
   "source": [
    "from sklearn import svm\n",
    "\n",
    "param_candidates = [\n",
    "  {'C': [1, 10, 100, 10000], 'kernel': ['linear']},\n",
    "  {'C': [1, 10, 100, 10000], 'gamma': [0.01, 0.001, 0.0001], 'kernel': ['rbf']},\n",
    "]\n",
    "svrCV = GridSearchCV(estimator=svm.SVR(), param_grid = param_candidates).fit(X_train, y_train)"
   ]
  },
  {
   "cell_type": "code",
   "execution_count": 70,
   "metadata": {},
   "outputs": [
    {
     "name": "stdout",
     "output_type": "stream",
     "text": [
      "Best C: 10000\n",
      "Best Kernel: linear\n",
      "Best Gamma: auto\n"
     ]
    }
   ],
   "source": [
    "print('Best C:',svrCV.best_estimator_.C) \n",
    "print('Best Kernel:',svrCV.best_estimator_.kernel)\n",
    "print('Best Gamma:',svrCV.best_estimator_.gamma)"
   ]
  },
  {
   "cell_type": "markdown",
   "metadata": {},
   "source": [
    "It seems that linear kernel is better for our application. We will see the numerical performance."
   ]
  },
  {
   "cell_type": "code",
   "execution_count": 71,
   "metadata": {
    "collapsed": true
   },
   "outputs": [],
   "source": [
    "svr = svrCV.best_estimator_.fit(X_train, y_train)"
   ]
  },
  {
   "cell_type": "code",
   "execution_count": 72,
   "metadata": {
    "scrolled": true
   },
   "outputs": [
    {
     "data": {
      "text/plain": [
       "2555.0644324467503"
      ]
     },
     "execution_count": 72,
     "metadata": {},
     "output_type": "execute_result"
    }
   ],
   "source": [
    "((svr.predict(X_test) - y_test) ** 2).mean() ** 0.5"
   ]
  },
  {
   "cell_type": "code",
   "execution_count": 73,
   "metadata": {
    "scrolled": false
   },
   "outputs": [
    {
     "data": {
      "image/png": "[encoded data removed]",
      "text/plain": [
       "<matplotlib.figure.Figure at 0x290dedc3fd0>"
      ]
     },
     "metadata": {},
     "output_type": "display_data"
    }
   ],
   "source": [
    "sns.residplot(x=svrCV.predict(X_test),\n",
    "              y=svrCV.predict(X_test) - y_test,\n",
    "              lowess=True,\n",
    "              scatter_kws={'alpha': 0.5}, \n",
    "              line_kws={'color': 'red', 'lw': 1, 'alpha': 0.8});"
   ]
  },
  {
   "cell_type": "markdown",
   "metadata": {},
   "source": [
    "Apparently, support vector regression is not better than OLS in our application."
   ]
  },
  {
   "cell_type": "markdown",
   "metadata": {},
   "source": [
    "### Neural Network"
   ]
  },
  {
   "cell_type": "markdown",
   "metadata": {},
   "source": [
    "The last method we will try is the neural network. Neural network is known as a very powerful black box.\n",
    "\n",
    "Here we will just try a simple neural network with up to two hidden layers. To select the number of nodes in the hidden layers, we use cross-validation to try several values."
   ]
  },
  {
   "cell_type": "code",
   "execution_count": 74,
   "metadata": {
    "collapsed": true
   },
   "outputs": [],
   "source": [
    "from sklearn.neural_network import MLPRegressor"
   ]
  },
  {
   "cell_type": "code",
   "execution_count": 75,
   "metadata": {
    "collapsed": true
   },
   "outputs": [],
   "source": [
    "param_candidates = [\n",
    "  {'hidden_layer_sizes': [(2), (5), (7), (10), (10,2), (10,5), (10,10)]},\n",
    "]\n",
    "nnetCV = GridSearchCV(estimator=MLPRegressor(solver='lbfgs', activation='relu'), param_grid = param_candidates).fit(X_train, y_train)"
   ]
  },
  {
   "cell_type": "code",
   "execution_count": 76,
   "metadata": {},
   "outputs": [
    {
     "data": {
      "text/plain": [
       "{'hidden_layer_sizes': (10, 2)}"
      ]
     },
     "execution_count": 76,
     "metadata": {},
     "output_type": "execute_result"
    }
   ],
   "source": [
    "nnetCV.best_params_"
   ]
  },
  {
   "cell_type": "markdown",
   "metadata": {},
   "source": [
    "It seems that we will use a neural network model with 2 hidden layers of 10 nodes each."
   ]
  },
  {
   "cell_type": "code",
   "execution_count": 77,
   "metadata": {},
   "outputs": [
    {
     "data": {
      "text/plain": [
       "MLPRegressor(activation='relu', alpha=0.0001, batch_size='auto', beta_1=0.9,\n",
       "       beta_2=0.999, early_stopping=False, epsilon=1e-08,\n",
       "       hidden_layer_sizes=(10, 2), learning_rate='constant',\n",
       "       learning_rate_init=0.001, max_iter=200, momentum=0.9,\n",
       "       nesterovs_momentum=True, power_t=0.5, random_state=None,\n",
       "       shuffle=True, solver='lbfgs', tol=0.0001, validation_fraction=0.1,\n",
       "       verbose=False, warm_start=False)"
      ]
     },
     "execution_count": 77,
     "metadata": {},
     "output_type": "execute_result"
    }
   ],
   "source": [
    "nnetCV.best_estimator_.fit(X_train, y_train)"
   ]
  },
  {
   "cell_type": "code",
   "execution_count": 78,
   "metadata": {},
   "outputs": [
    {
     "data": {
      "text/plain": [
       "1122.3749089181533"
      ]
     },
     "execution_count": 78,
     "metadata": {},
     "output_type": "execute_result"
    }
   ],
   "source": [
    "((nnetCV.predict(X_test) - y_test) ** 2).mean() ** 0.5"
   ]
  },
  {
   "cell_type": "code",
   "execution_count": 79,
   "metadata": {
    "scrolled": false
   },
   "outputs": [
    {
     "data": {
      "image/png": "[encoded data removed]",
      "text/plain": [
       "<matplotlib.figure.Figure at 0x290df24f400>"
      ]
     },
     "metadata": {},
     "output_type": "display_data"
    }
   ],
   "source": [
    "sns.residplot(x=nnetCV.predict(X_test),\n",
    "              y=nnetCV.predict(X_test) - y_test,\n",
    "              lowess=True,\n",
    "              scatter_kws={'alpha': 0.5}, \n",
    "              line_kws={'color': 'red', 'lw': 1, 'alpha': 0.8});"
   ]
  },
  {
   "cell_type": "markdown",
   "metadata": {
    "collapsed": true
   },
   "source": [
    "We can see that this model performs quite well. Although the polynomial regression is better, this model provides significant improvement over the OLS. Perhaps more exploration can be done to further fine tune the model."
   ]
  },
  {
   "cell_type": "markdown",
   "metadata": {},
   "source": [
    "## Conclusion"
   ]
  },
  {
   "cell_type": "markdown",
   "metadata": {},
   "source": [
    "In this analysis, we analysed clinical and financial data of patients with a certain condition. The goal is to predict the cost charged to a patient using the patient's clinical data. Before the analysis, we cleaned the data to make our analysis easier. Then, we did some exploratory data analysis to get a better look at our data. Furthermore, we tried several machine learning methods to predict the cost.\n",
    "\n",
    "From our analysis, we see that the symptom variables and the demographic variables (for example, race and resident status) affect the cost more. On the other hand, a majority of the medical history variables, all pre-op medications, and all lab results variables don't seem to contribute much in determining the cost. These patterns can be seen in both our exploratory data analysis part and the statistical modeling part.\n",
    "\n",
    "We also found that simple models with heavily regularised parameters are not suitable for our data. In our analysis, complicated methods with many parameters such as polynomial regression and neural network perform the best, while simple methods don't.\n",
    "\n",
    "To close our analysis, we hope that this analysis may be of value to parties from various background, be it someone who wants to estimate his/her expected hospitalisation cost, an insurance company who wants to compute premiums for their prospective clients, or a digital health company, focused on solving complex problems in healthcare."
   ]
  }
 ],
 "metadata": {
  "kernelspec": {
   "display_name": "Python 3",
   "language": "python",
   "name": "python3"
  },
  "language_info": {
   "codemirror_mode": {
    "name": "ipython",
    "version": 3
   },
   "file_extension": ".py",
   "mimetype": "text/x-python",
   "name": "python",
   "nbconvert_exporter": "python",
   "pygments_lexer": "ipython3",
   "version": "3.6.2"
  }
 },
 "nbformat": 4,
 "nbformat_minor": 2
}
